{
  "nbformat": 4,
  "nbformat_minor": 0,
  "metadata": {
    "colab": {
      "name": "Assignment2.ipynb",
      "provenance": [],
      "collapsed_sections": [
        "FOw2NaxPQ22T",
        "7Lsu-fKc9lmx",
        "R-0h0QUY976Y",
        "LexD5KS0-EVf",
        "QdhRCs_H-LFr",
        "yfTrGwjKCUCB",
        "wNJVuCa3DLCH",
        "csSmb1g9E9gt"
      ],
      "toc_visible": true
    },
    "kernelspec": {
      "name": "python3",
      "display_name": "Python 3"
    }
  },
  "cells": [
    {
      "cell_type": "code",
      "metadata": {
        "id": "1ELytQw4M6Se",
        "colab_type": "code",
        "outputId": "47a61eb2-04e6-4fa0-a835-201e7435bcd1",
        "colab": {
          "base_uri": "https://localhost:8080/",
          "height": 34
        }
      },
      "source": [
        "pip install ann_visualizer"
      ],
      "execution_count": 0,
      "outputs": [
        {
          "output_type": "stream",
          "text": [
            "Requirement already satisfied: ann_visualizer in /usr/local/lib/python3.6/dist-packages (2.5)\n"
          ],
          "name": "stdout"
        }
      ]
    },
    {
      "cell_type": "code",
      "metadata": {
        "id": "ELNjG29cNBuC",
        "colab_type": "code",
        "outputId": "91ec4d5c-6d57-4265-800a-5332f4fc0bc7",
        "colab": {
          "base_uri": "https://localhost:8080/",
          "height": 34
        }
      },
      "source": [
        "pip install graphviz"
      ],
      "execution_count": 0,
      "outputs": [
        {
          "output_type": "stream",
          "text": [
            "Requirement already satisfied: graphviz in /usr/local/lib/python3.6/dist-packages (0.10.1)\n"
          ],
          "name": "stdout"
        }
      ]
    },
    {
      "cell_type": "code",
      "metadata": {
        "id": "92sGpZdnePSc",
        "colab_type": "code",
        "colab": {}
      },
      "source": [
        "import pandas as pd\n",
        "import numpy as np\n",
        "import seaborn as sns\n",
        "from sklearn.metrics import accuracy_score, confusion_matrix, roc_curve, roc_auc_score"
      ],
      "execution_count": 0,
      "outputs": []
    },
    {
      "cell_type": "code",
      "metadata": {
        "id": "K-orrVq3FXsq",
        "colab_type": "code",
        "colab": {}
      },
      "source": [
        "import random as r\n",
        "r.seed(13)"
      ],
      "execution_count": 0,
      "outputs": []
    },
    {
      "cell_type": "code",
      "metadata": {
        "id": "w6EuGPB4Op-x",
        "colab_type": "code",
        "colab": {}
      },
      "source": [
        "data = pd.read_csv('diabetes.csv')"
      ],
      "execution_count": 0,
      "outputs": []
    },
    {
      "cell_type": "code",
      "metadata": {
        "id": "f5n2O76MeV11",
        "colab_type": "code",
        "outputId": "9fa21ad2-8a23-445c-f57b-469477333c3d",
        "colab": {
          "base_uri": "https://localhost:8080/",
          "height": 357
        }
      },
      "source": [
        "data.head(10)"
      ],
      "execution_count": 0,
      "outputs": [
        {
          "output_type": "execute_result",
          "data": {
            "text/html": [
              "<div>\n",
              "<style scoped>\n",
              "    .dataframe tbody tr th:only-of-type {\n",
              "        vertical-align: middle;\n",
              "    }\n",
              "\n",
              "    .dataframe tbody tr th {\n",
              "        vertical-align: top;\n",
              "    }\n",
              "\n",
              "    .dataframe thead th {\n",
              "        text-align: right;\n",
              "    }\n",
              "</style>\n",
              "<table border=\"1\" class=\"dataframe\">\n",
              "  <thead>\n",
              "    <tr style=\"text-align: right;\">\n",
              "      <th></th>\n",
              "      <th>Pregnancies</th>\n",
              "      <th>Glucose</th>\n",
              "      <th>BloodPressure</th>\n",
              "      <th>SkinThickness</th>\n",
              "      <th>Insulin</th>\n",
              "      <th>BMI</th>\n",
              "      <th>DiabetesPedigreeFunction</th>\n",
              "      <th>Age</th>\n",
              "      <th>Outcome</th>\n",
              "    </tr>\n",
              "  </thead>\n",
              "  <tbody>\n",
              "    <tr>\n",
              "      <th>0</th>\n",
              "      <td>6</td>\n",
              "      <td>148</td>\n",
              "      <td>72</td>\n",
              "      <td>35</td>\n",
              "      <td>?</td>\n",
              "      <td>33.6</td>\n",
              "      <td>0.627</td>\n",
              "      <td>50</td>\n",
              "      <td>1</td>\n",
              "    </tr>\n",
              "    <tr>\n",
              "      <th>1</th>\n",
              "      <td>1</td>\n",
              "      <td>85</td>\n",
              "      <td>66</td>\n",
              "      <td>29</td>\n",
              "      <td>?</td>\n",
              "      <td>26.6</td>\n",
              "      <td>0.351</td>\n",
              "      <td>31</td>\n",
              "      <td>0</td>\n",
              "    </tr>\n",
              "    <tr>\n",
              "      <th>2</th>\n",
              "      <td>8</td>\n",
              "      <td>183</td>\n",
              "      <td>64</td>\n",
              "      <td>?</td>\n",
              "      <td>?</td>\n",
              "      <td>23.3</td>\n",
              "      <td>0.672</td>\n",
              "      <td>32</td>\n",
              "      <td>1</td>\n",
              "    </tr>\n",
              "    <tr>\n",
              "      <th>3</th>\n",
              "      <td>1</td>\n",
              "      <td>89</td>\n",
              "      <td>66</td>\n",
              "      <td>23</td>\n",
              "      <td>94</td>\n",
              "      <td>28.1</td>\n",
              "      <td>0.167</td>\n",
              "      <td>21</td>\n",
              "      <td>0</td>\n",
              "    </tr>\n",
              "    <tr>\n",
              "      <th>4</th>\n",
              "      <td>0</td>\n",
              "      <td>137</td>\n",
              "      <td>40</td>\n",
              "      <td>35</td>\n",
              "      <td>168</td>\n",
              "      <td>43.1</td>\n",
              "      <td>2.288</td>\n",
              "      <td>33</td>\n",
              "      <td>1</td>\n",
              "    </tr>\n",
              "    <tr>\n",
              "      <th>5</th>\n",
              "      <td>5</td>\n",
              "      <td>116</td>\n",
              "      <td>74</td>\n",
              "      <td>?</td>\n",
              "      <td>?</td>\n",
              "      <td>25.6</td>\n",
              "      <td>0.201</td>\n",
              "      <td>30</td>\n",
              "      <td>0</td>\n",
              "    </tr>\n",
              "    <tr>\n",
              "      <th>6</th>\n",
              "      <td>3</td>\n",
              "      <td>78</td>\n",
              "      <td>50</td>\n",
              "      <td>32</td>\n",
              "      <td>88</td>\n",
              "      <td>31</td>\n",
              "      <td>0.248</td>\n",
              "      <td>26</td>\n",
              "      <td>1</td>\n",
              "    </tr>\n",
              "    <tr>\n",
              "      <th>7</th>\n",
              "      <td>10</td>\n",
              "      <td>115</td>\n",
              "      <td>?</td>\n",
              "      <td>?</td>\n",
              "      <td>?</td>\n",
              "      <td>35.3</td>\n",
              "      <td>0.134</td>\n",
              "      <td>29</td>\n",
              "      <td>0</td>\n",
              "    </tr>\n",
              "    <tr>\n",
              "      <th>8</th>\n",
              "      <td>2</td>\n",
              "      <td>197</td>\n",
              "      <td>70</td>\n",
              "      <td>45</td>\n",
              "      <td>543</td>\n",
              "      <td>30.5</td>\n",
              "      <td>0.158</td>\n",
              "      <td>53</td>\n",
              "      <td>1</td>\n",
              "    </tr>\n",
              "    <tr>\n",
              "      <th>9</th>\n",
              "      <td>8</td>\n",
              "      <td>125</td>\n",
              "      <td>96</td>\n",
              "      <td>?</td>\n",
              "      <td>?</td>\n",
              "      <td>?</td>\n",
              "      <td>0.232</td>\n",
              "      <td>54</td>\n",
              "      <td>1</td>\n",
              "    </tr>\n",
              "  </tbody>\n",
              "</table>\n",
              "</div>"
            ],
            "text/plain": [
              "   Pregnancies Glucose BloodPressure  ... DiabetesPedigreeFunction Age Outcome\n",
              "0            6     148            72  ...                    0.627  50       1\n",
              "1            1      85            66  ...                    0.351  31       0\n",
              "2            8     183            64  ...                    0.672  32       1\n",
              "3            1      89            66  ...                    0.167  21       0\n",
              "4            0     137            40  ...                    2.288  33       1\n",
              "5            5     116            74  ...                    0.201  30       0\n",
              "6            3      78            50  ...                    0.248  26       1\n",
              "7           10     115             ?  ...                    0.134  29       0\n",
              "8            2     197            70  ...                    0.158  53       1\n",
              "9            8     125            96  ...                    0.232  54       1\n",
              "\n",
              "[10 rows x 9 columns]"
            ]
          },
          "metadata": {
            "tags": []
          },
          "execution_count": 32
        }
      ]
    },
    {
      "cell_type": "code",
      "metadata": {
        "id": "ZqBarVK4eYAL",
        "colab_type": "code",
        "outputId": "5ac4b0e9-a22c-4f23-a090-2304007d5ea2",
        "colab": {
          "base_uri": "https://localhost:8080/",
          "height": 34
        }
      },
      "source": [
        "data.shape"
      ],
      "execution_count": 0,
      "outputs": [
        {
          "output_type": "execute_result",
          "data": {
            "text/plain": [
              "(768, 9)"
            ]
          },
          "metadata": {
            "tags": []
          },
          "execution_count": 33
        }
      ]
    },
    {
      "cell_type": "code",
      "metadata": {
        "id": "MZIGGe0VMcYW",
        "colab_type": "code",
        "outputId": "4262c566-9e05-4823-ee22-3ba35a9be944",
        "colab": {
          "base_uri": "https://localhost:8080/",
          "height": 295
        }
      },
      "source": [
        "data.describe()"
      ],
      "execution_count": 0,
      "outputs": [
        {
          "output_type": "execute_result",
          "data": {
            "text/html": [
              "<div>\n",
              "<style scoped>\n",
              "    .dataframe tbody tr th:only-of-type {\n",
              "        vertical-align: middle;\n",
              "    }\n",
              "\n",
              "    .dataframe tbody tr th {\n",
              "        vertical-align: top;\n",
              "    }\n",
              "\n",
              "    .dataframe thead th {\n",
              "        text-align: right;\n",
              "    }\n",
              "</style>\n",
              "<table border=\"1\" class=\"dataframe\">\n",
              "  <thead>\n",
              "    <tr style=\"text-align: right;\">\n",
              "      <th></th>\n",
              "      <th>Pregnancies</th>\n",
              "      <th>DiabetesPedigreeFunction</th>\n",
              "      <th>Age</th>\n",
              "      <th>Outcome</th>\n",
              "    </tr>\n",
              "  </thead>\n",
              "  <tbody>\n",
              "    <tr>\n",
              "      <th>count</th>\n",
              "      <td>768.000000</td>\n",
              "      <td>768.000000</td>\n",
              "      <td>768.000000</td>\n",
              "      <td>768.000000</td>\n",
              "    </tr>\n",
              "    <tr>\n",
              "      <th>mean</th>\n",
              "      <td>3.845052</td>\n",
              "      <td>0.471876</td>\n",
              "      <td>33.240885</td>\n",
              "      <td>0.348958</td>\n",
              "    </tr>\n",
              "    <tr>\n",
              "      <th>std</th>\n",
              "      <td>3.369578</td>\n",
              "      <td>0.331329</td>\n",
              "      <td>11.760232</td>\n",
              "      <td>0.476951</td>\n",
              "    </tr>\n",
              "    <tr>\n",
              "      <th>min</th>\n",
              "      <td>0.000000</td>\n",
              "      <td>0.078000</td>\n",
              "      <td>21.000000</td>\n",
              "      <td>0.000000</td>\n",
              "    </tr>\n",
              "    <tr>\n",
              "      <th>25%</th>\n",
              "      <td>1.000000</td>\n",
              "      <td>0.243750</td>\n",
              "      <td>24.000000</td>\n",
              "      <td>0.000000</td>\n",
              "    </tr>\n",
              "    <tr>\n",
              "      <th>50%</th>\n",
              "      <td>3.000000</td>\n",
              "      <td>0.372500</td>\n",
              "      <td>29.000000</td>\n",
              "      <td>0.000000</td>\n",
              "    </tr>\n",
              "    <tr>\n",
              "      <th>75%</th>\n",
              "      <td>6.000000</td>\n",
              "      <td>0.626250</td>\n",
              "      <td>41.000000</td>\n",
              "      <td>1.000000</td>\n",
              "    </tr>\n",
              "    <tr>\n",
              "      <th>max</th>\n",
              "      <td>17.000000</td>\n",
              "      <td>2.420000</td>\n",
              "      <td>81.000000</td>\n",
              "      <td>1.000000</td>\n",
              "    </tr>\n",
              "  </tbody>\n",
              "</table>\n",
              "</div>"
            ],
            "text/plain": [
              "       Pregnancies  DiabetesPedigreeFunction         Age     Outcome\n",
              "count   768.000000                768.000000  768.000000  768.000000\n",
              "mean      3.845052                  0.471876   33.240885    0.348958\n",
              "std       3.369578                  0.331329   11.760232    0.476951\n",
              "min       0.000000                  0.078000   21.000000    0.000000\n",
              "25%       1.000000                  0.243750   24.000000    0.000000\n",
              "50%       3.000000                  0.372500   29.000000    0.000000\n",
              "75%       6.000000                  0.626250   41.000000    1.000000\n",
              "max      17.000000                  2.420000   81.000000    1.000000"
            ]
          },
          "metadata": {
            "tags": []
          },
          "execution_count": 34
        }
      ]
    },
    {
      "cell_type": "code",
      "metadata": {
        "id": "k_e6rpFtOTer",
        "colab_type": "code",
        "outputId": "e3219a88-1b7e-4bfc-b8a4-1c4f2e8d5421",
        "colab": {
          "base_uri": "https://localhost:8080/",
          "height": 282
        }
      },
      "source": [
        "plot_sns = sns.countplot(data['Outcome'])"
      ],
      "execution_count": 0,
      "outputs": [
        {
          "output_type": "display_data",
          "data": {
            "image/png": "[encoded data removed]",
            "text/plain": [
              "<Figure size 432x288 with 1 Axes>"
            ]
          },
          "metadata": {
            "tags": []
          }
        }
      ]
    },
    {
      "cell_type": "code",
      "metadata": {
        "id": "HxjRs1iwQIrc",
        "colab_type": "code",
        "outputId": "3f151889-daa3-417d-9ba5-c15f7f34dc12",
        "colab": {
          "base_uri": "https://localhost:8080/",
          "height": 68
        }
      },
      "source": [
        "data['Outcome'].value_counts()"
      ],
      "execution_count": 0,
      "outputs": [
        {
          "output_type": "execute_result",
          "data": {
            "text/plain": [
              "0    500\n",
              "1    268\n",
              "Name: Outcome, dtype: int64"
            ]
          },
          "metadata": {
            "tags": []
          },
          "execution_count": 36
        }
      ]
    },
    {
      "cell_type": "markdown",
      "metadata": {
        "id": "qN5--VhLI7bS",
        "colab_type": "text"
      },
      "source": [
        "#A) Data Preprocessing"
      ]
    },
    {
      "cell_type": "markdown",
      "metadata": {
        "id": "q2EhSoFkJEeC",
        "colab_type": "text"
      },
      "source": [
        "## Missing Data "
      ]
    },
    {
      "cell_type": "code",
      "metadata": {
        "id": "BHgQdk1fmllR",
        "colab_type": "code",
        "colab": {}
      },
      "source": [
        "data.replace(to_replace='?', inplace=True, value=np.NaN)"
      ],
      "execution_count": 0,
      "outputs": []
    },
    {
      "cell_type": "code",
      "metadata": {
        "id": "uGhTKW-qnE8H",
        "colab_type": "code",
        "outputId": "6b0fdc49-527a-4756-ebf2-7ad440080d7e",
        "colab": {
          "base_uri": "https://localhost:8080/",
          "height": 357
        }
      },
      "source": [
        "data.head(10)"
      ],
      "execution_count": 0,
      "outputs": [
        {
          "output_type": "execute_result",
          "data": {
            "text/html": [
              "<div>\n",
              "<style scoped>\n",
              "    .dataframe tbody tr th:only-of-type {\n",
              "        vertical-align: middle;\n",
              "    }\n",
              "\n",
              "    .dataframe tbody tr th {\n",
              "        vertical-align: top;\n",
              "    }\n",
              "\n",
              "    .dataframe thead th {\n",
              "        text-align: right;\n",
              "    }\n",
              "</style>\n",
              "<table border=\"1\" class=\"dataframe\">\n",
              "  <thead>\n",
              "    <tr style=\"text-align: right;\">\n",
              "      <th></th>\n",
              "      <th>Pregnancies</th>\n",
              "      <th>Glucose</th>\n",
              "      <th>BloodPressure</th>\n",
              "      <th>SkinThickness</th>\n",
              "      <th>Insulin</th>\n",
              "      <th>BMI</th>\n",
              "      <th>DiabetesPedigreeFunction</th>\n",
              "      <th>Age</th>\n",
              "      <th>Outcome</th>\n",
              "    </tr>\n",
              "  </thead>\n",
              "  <tbody>\n",
              "    <tr>\n",
              "      <th>0</th>\n",
              "      <td>6</td>\n",
              "      <td>148</td>\n",
              "      <td>72</td>\n",
              "      <td>35</td>\n",
              "      <td>NaN</td>\n",
              "      <td>33.6</td>\n",
              "      <td>0.627</td>\n",
              "      <td>50</td>\n",
              "      <td>1</td>\n",
              "    </tr>\n",
              "    <tr>\n",
              "      <th>1</th>\n",
              "      <td>1</td>\n",
              "      <td>85</td>\n",
              "      <td>66</td>\n",
              "      <td>29</td>\n",
              "      <td>NaN</td>\n",
              "      <td>26.6</td>\n",
              "      <td>0.351</td>\n",
              "      <td>31</td>\n",
              "      <td>0</td>\n",
              "    </tr>\n",
              "    <tr>\n",
              "      <th>2</th>\n",
              "      <td>8</td>\n",
              "      <td>183</td>\n",
              "      <td>64</td>\n",
              "      <td>NaN</td>\n",
              "      <td>NaN</td>\n",
              "      <td>23.3</td>\n",
              "      <td>0.672</td>\n",
              "      <td>32</td>\n",
              "      <td>1</td>\n",
              "    </tr>\n",
              "    <tr>\n",
              "      <th>3</th>\n",
              "      <td>1</td>\n",
              "      <td>89</td>\n",
              "      <td>66</td>\n",
              "      <td>23</td>\n",
              "      <td>94</td>\n",
              "      <td>28.1</td>\n",
              "      <td>0.167</td>\n",
              "      <td>21</td>\n",
              "      <td>0</td>\n",
              "    </tr>\n",
              "    <tr>\n",
              "      <th>4</th>\n",
              "      <td>0</td>\n",
              "      <td>137</td>\n",
              "      <td>40</td>\n",
              "      <td>35</td>\n",
              "      <td>168</td>\n",
              "      <td>43.1</td>\n",
              "      <td>2.288</td>\n",
              "      <td>33</td>\n",
              "      <td>1</td>\n",
              "    </tr>\n",
              "    <tr>\n",
              "      <th>5</th>\n",
              "      <td>5</td>\n",
              "      <td>116</td>\n",
              "      <td>74</td>\n",
              "      <td>NaN</td>\n",
              "      <td>NaN</td>\n",
              "      <td>25.6</td>\n",
              "      <td>0.201</td>\n",
              "      <td>30</td>\n",
              "      <td>0</td>\n",
              "    </tr>\n",
              "    <tr>\n",
              "      <th>6</th>\n",
              "      <td>3</td>\n",
              "      <td>78</td>\n",
              "      <td>50</td>\n",
              "      <td>32</td>\n",
              "      <td>88</td>\n",
              "      <td>31</td>\n",
              "      <td>0.248</td>\n",
              "      <td>26</td>\n",
              "      <td>1</td>\n",
              "    </tr>\n",
              "    <tr>\n",
              "      <th>7</th>\n",
              "      <td>10</td>\n",
              "      <td>115</td>\n",
              "      <td>NaN</td>\n",
              "      <td>NaN</td>\n",
              "      <td>NaN</td>\n",
              "      <td>35.3</td>\n",
              "      <td>0.134</td>\n",
              "      <td>29</td>\n",
              "      <td>0</td>\n",
              "    </tr>\n",
              "    <tr>\n",
              "      <th>8</th>\n",
              "      <td>2</td>\n",
              "      <td>197</td>\n",
              "      <td>70</td>\n",
              "      <td>45</td>\n",
              "      <td>543</td>\n",
              "      <td>30.5</td>\n",
              "      <td>0.158</td>\n",
              "      <td>53</td>\n",
              "      <td>1</td>\n",
              "    </tr>\n",
              "    <tr>\n",
              "      <th>9</th>\n",
              "      <td>8</td>\n",
              "      <td>125</td>\n",
              "      <td>96</td>\n",
              "      <td>NaN</td>\n",
              "      <td>NaN</td>\n",
              "      <td>NaN</td>\n",
              "      <td>0.232</td>\n",
              "      <td>54</td>\n",
              "      <td>1</td>\n",
              "    </tr>\n",
              "  </tbody>\n",
              "</table>\n",
              "</div>"
            ],
            "text/plain": [
              "   Pregnancies Glucose BloodPressure  ... DiabetesPedigreeFunction Age Outcome\n",
              "0            6     148            72  ...                    0.627  50       1\n",
              "1            1      85            66  ...                    0.351  31       0\n",
              "2            8     183            64  ...                    0.672  32       1\n",
              "3            1      89            66  ...                    0.167  21       0\n",
              "4            0     137            40  ...                    2.288  33       1\n",
              "5            5     116            74  ...                    0.201  30       0\n",
              "6            3      78            50  ...                    0.248  26       1\n",
              "7           10     115           NaN  ...                    0.134  29       0\n",
              "8            2     197            70  ...                    0.158  53       1\n",
              "9            8     125            96  ...                    0.232  54       1\n",
              "\n",
              "[10 rows x 9 columns]"
            ]
          },
          "metadata": {
            "tags": []
          },
          "execution_count": 38
        }
      ]
    },
    {
      "cell_type": "code",
      "metadata": {
        "id": "84jDTaWHnNns",
        "colab_type": "code",
        "outputId": "bdf0c758-0691-4ff8-9ba7-27dccf06ea15",
        "colab": {
          "base_uri": "https://localhost:8080/",
          "height": 188
        }
      },
      "source": [
        "data.isnull().sum()"
      ],
      "execution_count": 0,
      "outputs": [
        {
          "output_type": "execute_result",
          "data": {
            "text/plain": [
              "Pregnancies                   0\n",
              "Glucose                       5\n",
              "BloodPressure                34\n",
              "SkinThickness               227\n",
              "Insulin                     371\n",
              "BMI                          11\n",
              "DiabetesPedigreeFunction      0\n",
              "Age                           0\n",
              "Outcome                       0\n",
              "dtype: int64"
            ]
          },
          "metadata": {
            "tags": []
          },
          "execution_count": 39
        }
      ]
    },
    {
      "cell_type": "code",
      "metadata": {
        "id": "2jmYPESgoqUx",
        "colab_type": "code",
        "colab": {}
      },
      "source": [
        "from sklearn.impute import SimpleImputer\n",
        "imp=SimpleImputer(missing_values=np.nan,strategy='mean')\n",
        "df= pd.DataFrame(imp.fit_transform(data),\n",
        "                 index= data.index,\n",
        "                 columns = data.columns)"
      ],
      "execution_count": 0,
      "outputs": []
    },
    {
      "cell_type": "code",
      "metadata": {
        "id": "arLlCniCLaKu",
        "colab_type": "code",
        "outputId": "65cba13d-e83b-40a2-c8f0-5998e25b0632",
        "colab": {
          "base_uri": "https://localhost:8080/",
          "height": 68
        }
      },
      "source": [
        "df.columns"
      ],
      "execution_count": 0,
      "outputs": [
        {
          "output_type": "execute_result",
          "data": {
            "text/plain": [
              "Index(['Pregnancies', 'Glucose', 'BloodPressure', 'SkinThickness', 'Insulin',\n",
              "       'BMI', 'DiabetesPedigreeFunction', 'Age', 'Outcome'],\n",
              "      dtype='object')"
            ]
          },
          "metadata": {
            "tags": []
          },
          "execution_count": 41
        }
      ]
    },
    {
      "cell_type": "code",
      "metadata": {
        "id": "1vrEDUlVK-bb",
        "colab_type": "code",
        "outputId": "460052e8-f88b-4830-a3b9-e7480f67f561",
        "colab": {
          "base_uri": "https://localhost:8080/",
          "height": 377
        }
      },
      "source": [
        "df.head(10)"
      ],
      "execution_count": 0,
      "outputs": [
        {
          "output_type": "execute_result",
          "data": {
            "text/html": [
              "<div>\n",
              "<style scoped>\n",
              "    .dataframe tbody tr th:only-of-type {\n",
              "        vertical-align: middle;\n",
              "    }\n",
              "\n",
              "    .dataframe tbody tr th {\n",
              "        vertical-align: top;\n",
              "    }\n",
              "\n",
              "    .dataframe thead th {\n",
              "        text-align: right;\n",
              "    }\n",
              "</style>\n",
              "<table border=\"1\" class=\"dataframe\">\n",
              "  <thead>\n",
              "    <tr style=\"text-align: right;\">\n",
              "      <th></th>\n",
              "      <th>Pregnancies</th>\n",
              "      <th>Glucose</th>\n",
              "      <th>BloodPressure</th>\n",
              "      <th>SkinThickness</th>\n",
              "      <th>Insulin</th>\n",
              "      <th>BMI</th>\n",
              "      <th>DiabetesPedigreeFunction</th>\n",
              "      <th>Age</th>\n",
              "      <th>Outcome</th>\n",
              "    </tr>\n",
              "  </thead>\n",
              "  <tbody>\n",
              "    <tr>\n",
              "      <th>0</th>\n",
              "      <td>6.0</td>\n",
              "      <td>148.0</td>\n",
              "      <td>72.00000</td>\n",
              "      <td>35.00000</td>\n",
              "      <td>154.372796</td>\n",
              "      <td>33.600000</td>\n",
              "      <td>0.627</td>\n",
              "      <td>50.0</td>\n",
              "      <td>1.0</td>\n",
              "    </tr>\n",
              "    <tr>\n",
              "      <th>1</th>\n",
              "      <td>1.0</td>\n",
              "      <td>85.0</td>\n",
              "      <td>66.00000</td>\n",
              "      <td>29.00000</td>\n",
              "      <td>154.372796</td>\n",
              "      <td>26.600000</td>\n",
              "      <td>0.351</td>\n",
              "      <td>31.0</td>\n",
              "      <td>0.0</td>\n",
              "    </tr>\n",
              "    <tr>\n",
              "      <th>2</th>\n",
              "      <td>8.0</td>\n",
              "      <td>183.0</td>\n",
              "      <td>64.00000</td>\n",
              "      <td>29.15342</td>\n",
              "      <td>154.372796</td>\n",
              "      <td>23.300000</td>\n",
              "      <td>0.672</td>\n",
              "      <td>32.0</td>\n",
              "      <td>1.0</td>\n",
              "    </tr>\n",
              "    <tr>\n",
              "      <th>3</th>\n",
              "      <td>1.0</td>\n",
              "      <td>89.0</td>\n",
              "      <td>66.00000</td>\n",
              "      <td>23.00000</td>\n",
              "      <td>94.000000</td>\n",
              "      <td>28.100000</td>\n",
              "      <td>0.167</td>\n",
              "      <td>21.0</td>\n",
              "      <td>0.0</td>\n",
              "    </tr>\n",
              "    <tr>\n",
              "      <th>4</th>\n",
              "      <td>0.0</td>\n",
              "      <td>137.0</td>\n",
              "      <td>40.00000</td>\n",
              "      <td>35.00000</td>\n",
              "      <td>168.000000</td>\n",
              "      <td>43.100000</td>\n",
              "      <td>2.288</td>\n",
              "      <td>33.0</td>\n",
              "      <td>1.0</td>\n",
              "    </tr>\n",
              "    <tr>\n",
              "      <th>5</th>\n",
              "      <td>5.0</td>\n",
              "      <td>116.0</td>\n",
              "      <td>74.00000</td>\n",
              "      <td>29.15342</td>\n",
              "      <td>154.372796</td>\n",
              "      <td>25.600000</td>\n",
              "      <td>0.201</td>\n",
              "      <td>30.0</td>\n",
              "      <td>0.0</td>\n",
              "    </tr>\n",
              "    <tr>\n",
              "      <th>6</th>\n",
              "      <td>3.0</td>\n",
              "      <td>78.0</td>\n",
              "      <td>50.00000</td>\n",
              "      <td>32.00000</td>\n",
              "      <td>88.000000</td>\n",
              "      <td>31.000000</td>\n",
              "      <td>0.248</td>\n",
              "      <td>26.0</td>\n",
              "      <td>1.0</td>\n",
              "    </tr>\n",
              "    <tr>\n",
              "      <th>7</th>\n",
              "      <td>10.0</td>\n",
              "      <td>115.0</td>\n",
              "      <td>72.30654</td>\n",
              "      <td>29.15342</td>\n",
              "      <td>154.372796</td>\n",
              "      <td>35.300000</td>\n",
              "      <td>0.134</td>\n",
              "      <td>29.0</td>\n",
              "      <td>0.0</td>\n",
              "    </tr>\n",
              "    <tr>\n",
              "      <th>8</th>\n",
              "      <td>2.0</td>\n",
              "      <td>197.0</td>\n",
              "      <td>70.00000</td>\n",
              "      <td>45.00000</td>\n",
              "      <td>543.000000</td>\n",
              "      <td>30.500000</td>\n",
              "      <td>0.158</td>\n",
              "      <td>53.0</td>\n",
              "      <td>1.0</td>\n",
              "    </tr>\n",
              "    <tr>\n",
              "      <th>9</th>\n",
              "      <td>8.0</td>\n",
              "      <td>125.0</td>\n",
              "      <td>96.00000</td>\n",
              "      <td>29.15342</td>\n",
              "      <td>154.372796</td>\n",
              "      <td>32.457464</td>\n",
              "      <td>0.232</td>\n",
              "      <td>54.0</td>\n",
              "      <td>1.0</td>\n",
              "    </tr>\n",
              "  </tbody>\n",
              "</table>\n",
              "</div>"
            ],
            "text/plain": [
              "   Pregnancies  Glucose  BloodPressure  ...  DiabetesPedigreeFunction   Age  Outcome\n",
              "0          6.0    148.0       72.00000  ...                     0.627  50.0      1.0\n",
              "1          1.0     85.0       66.00000  ...                     0.351  31.0      0.0\n",
              "2          8.0    183.0       64.00000  ...                     0.672  32.0      1.0\n",
              "3          1.0     89.0       66.00000  ...                     0.167  21.0      0.0\n",
              "4          0.0    137.0       40.00000  ...                     2.288  33.0      1.0\n",
              "5          5.0    116.0       74.00000  ...                     0.201  30.0      0.0\n",
              "6          3.0     78.0       50.00000  ...                     0.248  26.0      1.0\n",
              "7         10.0    115.0       72.30654  ...                     0.134  29.0      0.0\n",
              "8          2.0    197.0       70.00000  ...                     0.158  53.0      1.0\n",
              "9          8.0    125.0       96.00000  ...                     0.232  54.0      1.0\n",
              "\n",
              "[10 rows x 9 columns]"
            ]
          },
          "metadata": {
            "tags": []
          },
          "execution_count": 42
        }
      ]
    },
    {
      "cell_type": "code",
      "metadata": {
        "id": "YA2vC3lx9PlS",
        "colab_type": "code",
        "colab": {}
      },
      "source": [
        "# to make outcome from float to int\n",
        "df['Outcome'] = data['Outcome']"
      ],
      "execution_count": 0,
      "outputs": []
    },
    {
      "cell_type": "code",
      "metadata": {
        "id": "bR16pv1KUFcD",
        "colab_type": "code",
        "outputId": "ec9bfe23-99b6-44d8-a938-8fedf15345b8",
        "colab": {
          "base_uri": "https://localhost:8080/",
          "height": 377
        }
      },
      "source": [
        "df.head(10)"
      ],
      "execution_count": 0,
      "outputs": [
        {
          "output_type": "execute_result",
          "data": {
            "text/html": [
              "<div>\n",
              "<style scoped>\n",
              "    .dataframe tbody tr th:only-of-type {\n",
              "        vertical-align: middle;\n",
              "    }\n",
              "\n",
              "    .dataframe tbody tr th {\n",
              "        vertical-align: top;\n",
              "    }\n",
              "\n",
              "    .dataframe thead th {\n",
              "        text-align: right;\n",
              "    }\n",
              "</style>\n",
              "<table border=\"1\" class=\"dataframe\">\n",
              "  <thead>\n",
              "    <tr style=\"text-align: right;\">\n",
              "      <th></th>\n",
              "      <th>Pregnancies</th>\n",
              "      <th>Glucose</th>\n",
              "      <th>BloodPressure</th>\n",
              "      <th>SkinThickness</th>\n",
              "      <th>Insulin</th>\n",
              "      <th>BMI</th>\n",
              "      <th>DiabetesPedigreeFunction</th>\n",
              "      <th>Age</th>\n",
              "      <th>Outcome</th>\n",
              "    </tr>\n",
              "  </thead>\n",
              "  <tbody>\n",
              "    <tr>\n",
              "      <th>0</th>\n",
              "      <td>6.0</td>\n",
              "      <td>148.0</td>\n",
              "      <td>72.00000</td>\n",
              "      <td>35.00000</td>\n",
              "      <td>154.372796</td>\n",
              "      <td>33.600000</td>\n",
              "      <td>0.627</td>\n",
              "      <td>50.0</td>\n",
              "      <td>1</td>\n",
              "    </tr>\n",
              "    <tr>\n",
              "      <th>1</th>\n",
              "      <td>1.0</td>\n",
              "      <td>85.0</td>\n",
              "      <td>66.00000</td>\n",
              "      <td>29.00000</td>\n",
              "      <td>154.372796</td>\n",
              "      <td>26.600000</td>\n",
              "      <td>0.351</td>\n",
              "      <td>31.0</td>\n",
              "      <td>0</td>\n",
              "    </tr>\n",
              "    <tr>\n",
              "      <th>2</th>\n",
              "      <td>8.0</td>\n",
              "      <td>183.0</td>\n",
              "      <td>64.00000</td>\n",
              "      <td>29.15342</td>\n",
              "      <td>154.372796</td>\n",
              "      <td>23.300000</td>\n",
              "      <td>0.672</td>\n",
              "      <td>32.0</td>\n",
              "      <td>1</td>\n",
              "    </tr>\n",
              "    <tr>\n",
              "      <th>3</th>\n",
              "      <td>1.0</td>\n",
              "      <td>89.0</td>\n",
              "      <td>66.00000</td>\n",
              "      <td>23.00000</td>\n",
              "      <td>94.000000</td>\n",
              "      <td>28.100000</td>\n",
              "      <td>0.167</td>\n",
              "      <td>21.0</td>\n",
              "      <td>0</td>\n",
              "    </tr>\n",
              "    <tr>\n",
              "      <th>4</th>\n",
              "      <td>0.0</td>\n",
              "      <td>137.0</td>\n",
              "      <td>40.00000</td>\n",
              "      <td>35.00000</td>\n",
              "      <td>168.000000</td>\n",
              "      <td>43.100000</td>\n",
              "      <td>2.288</td>\n",
              "      <td>33.0</td>\n",
              "      <td>1</td>\n",
              "    </tr>\n",
              "    <tr>\n",
              "      <th>5</th>\n",
              "      <td>5.0</td>\n",
              "      <td>116.0</td>\n",
              "      <td>74.00000</td>\n",
              "      <td>29.15342</td>\n",
              "      <td>154.372796</td>\n",
              "      <td>25.600000</td>\n",
              "      <td>0.201</td>\n",
              "      <td>30.0</td>\n",
              "      <td>0</td>\n",
              "    </tr>\n",
              "    <tr>\n",
              "      <th>6</th>\n",
              "      <td>3.0</td>\n",
              "      <td>78.0</td>\n",
              "      <td>50.00000</td>\n",
              "      <td>32.00000</td>\n",
              "      <td>88.000000</td>\n",
              "      <td>31.000000</td>\n",
              "      <td>0.248</td>\n",
              "      <td>26.0</td>\n",
              "      <td>1</td>\n",
              "    </tr>\n",
              "    <tr>\n",
              "      <th>7</th>\n",
              "      <td>10.0</td>\n",
              "      <td>115.0</td>\n",
              "      <td>72.30654</td>\n",
              "      <td>29.15342</td>\n",
              "      <td>154.372796</td>\n",
              "      <td>35.300000</td>\n",
              "      <td>0.134</td>\n",
              "      <td>29.0</td>\n",
              "      <td>0</td>\n",
              "    </tr>\n",
              "    <tr>\n",
              "      <th>8</th>\n",
              "      <td>2.0</td>\n",
              "      <td>197.0</td>\n",
              "      <td>70.00000</td>\n",
              "      <td>45.00000</td>\n",
              "      <td>543.000000</td>\n",
              "      <td>30.500000</td>\n",
              "      <td>0.158</td>\n",
              "      <td>53.0</td>\n",
              "      <td>1</td>\n",
              "    </tr>\n",
              "    <tr>\n",
              "      <th>9</th>\n",
              "      <td>8.0</td>\n",
              "      <td>125.0</td>\n",
              "      <td>96.00000</td>\n",
              "      <td>29.15342</td>\n",
              "      <td>154.372796</td>\n",
              "      <td>32.457464</td>\n",
              "      <td>0.232</td>\n",
              "      <td>54.0</td>\n",
              "      <td>1</td>\n",
              "    </tr>\n",
              "  </tbody>\n",
              "</table>\n",
              "</div>"
            ],
            "text/plain": [
              "   Pregnancies  Glucose  BloodPressure  ...  DiabetesPedigreeFunction   Age  Outcome\n",
              "0          6.0    148.0       72.00000  ...                     0.627  50.0        1\n",
              "1          1.0     85.0       66.00000  ...                     0.351  31.0        0\n",
              "2          8.0    183.0       64.00000  ...                     0.672  32.0        1\n",
              "3          1.0     89.0       66.00000  ...                     0.167  21.0        0\n",
              "4          0.0    137.0       40.00000  ...                     2.288  33.0        1\n",
              "5          5.0    116.0       74.00000  ...                     0.201  30.0        0\n",
              "6          3.0     78.0       50.00000  ...                     0.248  26.0        1\n",
              "7         10.0    115.0       72.30654  ...                     0.134  29.0        0\n",
              "8          2.0    197.0       70.00000  ...                     0.158  53.0        1\n",
              "9          8.0    125.0       96.00000  ...                     0.232  54.0        1\n",
              "\n",
              "[10 rows x 9 columns]"
            ]
          },
          "metadata": {
            "tags": []
          },
          "execution_count": 44
        }
      ]
    },
    {
      "cell_type": "code",
      "metadata": {
        "id": "ECUNHx_uLonj",
        "colab_type": "code",
        "outputId": "5f79f11d-dd61-49cd-a018-0a81df8467d6",
        "colab": {
          "base_uri": "https://localhost:8080/",
          "height": 315
        }
      },
      "source": [
        "df.describe()"
      ],
      "execution_count": 0,
      "outputs": [
        {
          "output_type": "execute_result",
          "data": {
            "text/html": [
              "<div>\n",
              "<style scoped>\n",
              "    .dataframe tbody tr th:only-of-type {\n",
              "        vertical-align: middle;\n",
              "    }\n",
              "\n",
              "    .dataframe tbody tr th {\n",
              "        vertical-align: top;\n",
              "    }\n",
              "\n",
              "    .dataframe thead th {\n",
              "        text-align: right;\n",
              "    }\n",
              "</style>\n",
              "<table border=\"1\" class=\"dataframe\">\n",
              "  <thead>\n",
              "    <tr style=\"text-align: right;\">\n",
              "      <th></th>\n",
              "      <th>Pregnancies</th>\n",
              "      <th>Glucose</th>\n",
              "      <th>BloodPressure</th>\n",
              "      <th>SkinThickness</th>\n",
              "      <th>Insulin</th>\n",
              "      <th>BMI</th>\n",
              "      <th>DiabetesPedigreeFunction</th>\n",
              "      <th>Age</th>\n",
              "      <th>Outcome</th>\n",
              "    </tr>\n",
              "  </thead>\n",
              "  <tbody>\n",
              "    <tr>\n",
              "      <th>count</th>\n",
              "      <td>768.000000</td>\n",
              "      <td>768.000000</td>\n",
              "      <td>768.000000</td>\n",
              "      <td>768.000000</td>\n",
              "      <td>768.000000</td>\n",
              "      <td>768.000000</td>\n",
              "      <td>768.000000</td>\n",
              "      <td>768.000000</td>\n",
              "      <td>768.000000</td>\n",
              "    </tr>\n",
              "    <tr>\n",
              "      <th>mean</th>\n",
              "      <td>3.845052</td>\n",
              "      <td>121.686763</td>\n",
              "      <td>72.306540</td>\n",
              "      <td>29.153420</td>\n",
              "      <td>154.372796</td>\n",
              "      <td>32.457464</td>\n",
              "      <td>0.471876</td>\n",
              "      <td>33.240885</td>\n",
              "      <td>0.348958</td>\n",
              "    </tr>\n",
              "    <tr>\n",
              "      <th>std</th>\n",
              "      <td>3.369578</td>\n",
              "      <td>30.435949</td>\n",
              "      <td>12.375272</td>\n",
              "      <td>8.790942</td>\n",
              "      <td>85.571663</td>\n",
              "      <td>6.875151</td>\n",
              "      <td>0.331329</td>\n",
              "      <td>11.760232</td>\n",
              "      <td>0.476951</td>\n",
              "    </tr>\n",
              "    <tr>\n",
              "      <th>min</th>\n",
              "      <td>0.000000</td>\n",
              "      <td>44.000000</td>\n",
              "      <td>0.000000</td>\n",
              "      <td>7.000000</td>\n",
              "      <td>0.000000</td>\n",
              "      <td>18.200000</td>\n",
              "      <td>0.078000</td>\n",
              "      <td>21.000000</td>\n",
              "      <td>0.000000</td>\n",
              "    </tr>\n",
              "    <tr>\n",
              "      <th>25%</th>\n",
              "      <td>1.000000</td>\n",
              "      <td>99.750000</td>\n",
              "      <td>64.000000</td>\n",
              "      <td>25.000000</td>\n",
              "      <td>120.000000</td>\n",
              "      <td>27.500000</td>\n",
              "      <td>0.243750</td>\n",
              "      <td>24.000000</td>\n",
              "      <td>0.000000</td>\n",
              "    </tr>\n",
              "    <tr>\n",
              "      <th>50%</th>\n",
              "      <td>3.000000</td>\n",
              "      <td>117.000000</td>\n",
              "      <td>72.000000</td>\n",
              "      <td>29.153420</td>\n",
              "      <td>154.372796</td>\n",
              "      <td>32.400000</td>\n",
              "      <td>0.372500</td>\n",
              "      <td>29.000000</td>\n",
              "      <td>0.000000</td>\n",
              "    </tr>\n",
              "    <tr>\n",
              "      <th>75%</th>\n",
              "      <td>6.000000</td>\n",
              "      <td>140.250000</td>\n",
              "      <td>80.000000</td>\n",
              "      <td>32.000000</td>\n",
              "      <td>154.372796</td>\n",
              "      <td>36.600000</td>\n",
              "      <td>0.626250</td>\n",
              "      <td>41.000000</td>\n",
              "      <td>1.000000</td>\n",
              "    </tr>\n",
              "    <tr>\n",
              "      <th>max</th>\n",
              "      <td>17.000000</td>\n",
              "      <td>199.000000</td>\n",
              "      <td>122.000000</td>\n",
              "      <td>99.000000</td>\n",
              "      <td>846.000000</td>\n",
              "      <td>67.100000</td>\n",
              "      <td>2.420000</td>\n",
              "      <td>81.000000</td>\n",
              "      <td>1.000000</td>\n",
              "    </tr>\n",
              "  </tbody>\n",
              "</table>\n",
              "</div>"
            ],
            "text/plain": [
              "       Pregnancies     Glucose  ...         Age     Outcome\n",
              "count   768.000000  768.000000  ...  768.000000  768.000000\n",
              "mean      3.845052  121.686763  ...   33.240885    0.348958\n",
              "std       3.369578   30.435949  ...   11.760232    0.476951\n",
              "min       0.000000   44.000000  ...   21.000000    0.000000\n",
              "25%       1.000000   99.750000  ...   24.000000    0.000000\n",
              "50%       3.000000  117.000000  ...   29.000000    0.000000\n",
              "75%       6.000000  140.250000  ...   41.000000    1.000000\n",
              "max      17.000000  199.000000  ...   81.000000    1.000000\n",
              "\n",
              "[8 rows x 9 columns]"
            ]
          },
          "metadata": {
            "tags": []
          },
          "execution_count": 45
        }
      ]
    },
    {
      "cell_type": "code",
      "metadata": {
        "id": "SL6BFrkWaU_S",
        "colab_type": "code",
        "outputId": "f0e596dd-8a62-4671-b22c-f87367f53585",
        "colab": {
          "base_uri": "https://localhost:8080/",
          "height": 880
        }
      },
      "source": [
        "import matplotlib.pyplot as plt\n",
        "\n",
        "plt.style.use('ggplot') # Using ggplot2 style visuals \n",
        "\n",
        "f, ax = plt.subplots(figsize=(11, 15))\n",
        "\n",
        "ax.set_facecolor('#fafafa')\n",
        "ax.set(xlim=(-.05, 200))\n",
        "plt.ylabel('Variables')\n",
        "plt.title(\"Overview Data Set\")\n",
        "ax = sns.boxplot(data = df, \n",
        "  orient = 'h', \n",
        "  palette = 'Set2')"
      ],
      "execution_count": 0,
      "outputs": [
        {
          "output_type": "display_data",
          "data": {
            "image/png": "[encoded data removed]",
            "text/plain": [
              "<Figure size 792x1080 with 1 Axes>"
            ]
          },
          "metadata": {
            "tags": []
          }
        }
      ]
    },
    {
      "cell_type": "markdown",
      "metadata": {
        "id": "iiRb85G8OInO",
        "colab_type": "text"
      },
      "source": [
        "## Normalization/Standardization"
      ]
    },
    {
      "cell_type": "code",
      "metadata": {
        "id": "6eXDjCE2LqF0",
        "colab_type": "code",
        "colab": {}
      },
      "source": [
        "features = ['Pregnancies', 'Glucose', 'BloodPressure', 'SkinThickness', 'Insulin',\n",
        "       'BMI', 'DiabetesPedigreeFunction', 'Age']\n",
        "normalized_data = df[features]\n",
        "# Normalization using Min-Max Scaler\n",
        "from sklearn.preprocessing import MinMaxScaler\n",
        "scaler = MinMaxScaler()\n",
        "scaler.fit(normalized_data)\n",
        "normalized_data = pd.DataFrame(scaler.transform(normalized_data), \n",
        "                               index=normalized_data.index, \n",
        "                               columns = normalized_data.columns)"
      ],
      "execution_count": 0,
      "outputs": []
    },
    {
      "cell_type": "code",
      "metadata": {
        "id": "YZmZRQAJkP_D",
        "colab_type": "code",
        "outputId": "40b325cc-af23-45a3-c346-3213b81328b6",
        "colab": {
          "base_uri": "https://localhost:8080/",
          "height": 357
        }
      },
      "source": [
        "normalized_data.head(10)"
      ],
      "execution_count": 0,
      "outputs": [
        {
          "output_type": "execute_result",
          "data": {
            "text/html": [
              "<div>\n",
              "<style scoped>\n",
              "    .dataframe tbody tr th:only-of-type {\n",
              "        vertical-align: middle;\n",
              "    }\n",
              "\n",
              "    .dataframe tbody tr th {\n",
              "        vertical-align: top;\n",
              "    }\n",
              "\n",
              "    .dataframe thead th {\n",
              "        text-align: right;\n",
              "    }\n",
              "</style>\n",
              "<table border=\"1\" class=\"dataframe\">\n",
              "  <thead>\n",
              "    <tr style=\"text-align: right;\">\n",
              "      <th></th>\n",
              "      <th>Pregnancies</th>\n",
              "      <th>Glucose</th>\n",
              "      <th>BloodPressure</th>\n",
              "      <th>SkinThickness</th>\n",
              "      <th>Insulin</th>\n",
              "      <th>BMI</th>\n",
              "      <th>DiabetesPedigreeFunction</th>\n",
              "      <th>Age</th>\n",
              "    </tr>\n",
              "  </thead>\n",
              "  <tbody>\n",
              "    <tr>\n",
              "      <th>0</th>\n",
              "      <td>0.352941</td>\n",
              "      <td>0.670968</td>\n",
              "      <td>0.590164</td>\n",
              "      <td>0.304348</td>\n",
              "      <td>0.182474</td>\n",
              "      <td>0.314928</td>\n",
              "      <td>0.234415</td>\n",
              "      <td>0.483333</td>\n",
              "    </tr>\n",
              "    <tr>\n",
              "      <th>1</th>\n",
              "      <td>0.058824</td>\n",
              "      <td>0.264516</td>\n",
              "      <td>0.540984</td>\n",
              "      <td>0.239130</td>\n",
              "      <td>0.182474</td>\n",
              "      <td>0.171779</td>\n",
              "      <td>0.116567</td>\n",
              "      <td>0.166667</td>\n",
              "    </tr>\n",
              "    <tr>\n",
              "      <th>2</th>\n",
              "      <td>0.470588</td>\n",
              "      <td>0.896774</td>\n",
              "      <td>0.524590</td>\n",
              "      <td>0.240798</td>\n",
              "      <td>0.182474</td>\n",
              "      <td>0.104294</td>\n",
              "      <td>0.253629</td>\n",
              "      <td>0.183333</td>\n",
              "    </tr>\n",
              "    <tr>\n",
              "      <th>3</th>\n",
              "      <td>0.058824</td>\n",
              "      <td>0.290323</td>\n",
              "      <td>0.540984</td>\n",
              "      <td>0.173913</td>\n",
              "      <td>0.111111</td>\n",
              "      <td>0.202454</td>\n",
              "      <td>0.038002</td>\n",
              "      <td>0.000000</td>\n",
              "    </tr>\n",
              "    <tr>\n",
              "      <th>4</th>\n",
              "      <td>0.000000</td>\n",
              "      <td>0.600000</td>\n",
              "      <td>0.327869</td>\n",
              "      <td>0.304348</td>\n",
              "      <td>0.198582</td>\n",
              "      <td>0.509202</td>\n",
              "      <td>0.943638</td>\n",
              "      <td>0.200000</td>\n",
              "    </tr>\n",
              "    <tr>\n",
              "      <th>5</th>\n",
              "      <td>0.294118</td>\n",
              "      <td>0.464516</td>\n",
              "      <td>0.606557</td>\n",
              "      <td>0.240798</td>\n",
              "      <td>0.182474</td>\n",
              "      <td>0.151329</td>\n",
              "      <td>0.052519</td>\n",
              "      <td>0.150000</td>\n",
              "    </tr>\n",
              "    <tr>\n",
              "      <th>6</th>\n",
              "      <td>0.176471</td>\n",
              "      <td>0.219355</td>\n",
              "      <td>0.409836</td>\n",
              "      <td>0.271739</td>\n",
              "      <td>0.104019</td>\n",
              "      <td>0.261759</td>\n",
              "      <td>0.072588</td>\n",
              "      <td>0.083333</td>\n",
              "    </tr>\n",
              "    <tr>\n",
              "      <th>7</th>\n",
              "      <td>0.588235</td>\n",
              "      <td>0.458065</td>\n",
              "      <td>0.592677</td>\n",
              "      <td>0.240798</td>\n",
              "      <td>0.182474</td>\n",
              "      <td>0.349693</td>\n",
              "      <td>0.023911</td>\n",
              "      <td>0.133333</td>\n",
              "    </tr>\n",
              "    <tr>\n",
              "      <th>8</th>\n",
              "      <td>0.117647</td>\n",
              "      <td>0.987097</td>\n",
              "      <td>0.573770</td>\n",
              "      <td>0.413043</td>\n",
              "      <td>0.641844</td>\n",
              "      <td>0.251534</td>\n",
              "      <td>0.034159</td>\n",
              "      <td>0.533333</td>\n",
              "    </tr>\n",
              "    <tr>\n",
              "      <th>9</th>\n",
              "      <td>0.470588</td>\n",
              "      <td>0.522581</td>\n",
              "      <td>0.786885</td>\n",
              "      <td>0.240798</td>\n",
              "      <td>0.182474</td>\n",
              "      <td>0.291564</td>\n",
              "      <td>0.065756</td>\n",
              "      <td>0.550000</td>\n",
              "    </tr>\n",
              "  </tbody>\n",
              "</table>\n",
              "</div>"
            ],
            "text/plain": [
              "   Pregnancies   Glucose  ...  DiabetesPedigreeFunction       Age\n",
              "0     0.352941  0.670968  ...                  0.234415  0.483333\n",
              "1     0.058824  0.264516  ...                  0.116567  0.166667\n",
              "2     0.470588  0.896774  ...                  0.253629  0.183333\n",
              "3     0.058824  0.290323  ...                  0.038002  0.000000\n",
              "4     0.000000  0.600000  ...                  0.943638  0.200000\n",
              "5     0.294118  0.464516  ...                  0.052519  0.150000\n",
              "6     0.176471  0.219355  ...                  0.072588  0.083333\n",
              "7     0.588235  0.458065  ...                  0.023911  0.133333\n",
              "8     0.117647  0.987097  ...                  0.034159  0.533333\n",
              "9     0.470588  0.522581  ...                  0.065756  0.550000\n",
              "\n",
              "[10 rows x 8 columns]"
            ]
          },
          "metadata": {
            "tags": []
          },
          "execution_count": 48
        }
      ]
    },
    {
      "cell_type": "markdown",
      "metadata": {
        "id": "GINJWT2tQEkP",
        "colab_type": "text"
      },
      "source": [
        "## Train-Test split"
      ]
    },
    {
      "cell_type": "code",
      "metadata": {
        "id": "MAGcCxEQPp0g",
        "colab_type": "code",
        "colab": {}
      },
      "source": [
        "X = normalized_data\n",
        "y = df['Outcome']"
      ],
      "execution_count": 0,
      "outputs": []
    },
    {
      "cell_type": "code",
      "metadata": {
        "id": "ppLaJUaPQQq9",
        "colab_type": "code",
        "colab": {}
      },
      "source": [
        "from sklearn.model_selection import train_test_split\n",
        "X_train, X_test, y_train, y_test = train_test_split(X, y, test_size=0.25, random_state=42)"
      ],
      "execution_count": 0,
      "outputs": []
    },
    {
      "cell_type": "code",
      "metadata": {
        "id": "SVGV026RQTn6",
        "colab_type": "code",
        "outputId": "a27e84c2-81fa-4a5d-cd82-a9e837b8868b",
        "colab": {
          "base_uri": "https://localhost:8080/",
          "height": 34
        }
      },
      "source": [
        "print(X_train.shape, y_train.shape)"
      ],
      "execution_count": 0,
      "outputs": [
        {
          "output_type": "stream",
          "text": [
            "(576, 8) (576,)\n"
          ],
          "name": "stdout"
        }
      ]
    },
    {
      "cell_type": "code",
      "metadata": {
        "id": "kMdDgqFgQtfR",
        "colab_type": "code",
        "outputId": "5b3de354-0cb3-48b8-c9b5-79e2d6e3617d",
        "colab": {
          "base_uri": "https://localhost:8080/",
          "height": 34
        }
      },
      "source": [
        "print(X_test.shape, y_test.shape)"
      ],
      "execution_count": 0,
      "outputs": [
        {
          "output_type": "stream",
          "text": [
            "(192, 8) (192,)\n"
          ],
          "name": "stdout"
        }
      ]
    },
    {
      "cell_type": "markdown",
      "metadata": {
        "id": "GsL7L8c-Q1hC",
        "colab_type": "text"
      },
      "source": [
        "#B) Model"
      ]
    },
    {
      "cell_type": "markdown",
      "metadata": {
        "id": "FOw2NaxPQ22T",
        "colab_type": "text"
      },
      "source": [
        "## Single Layer"
      ]
    },
    {
      "cell_type": "markdown",
      "metadata": {
        "id": "gk17zYS79LzJ",
        "colab_type": "text"
      },
      "source": [
        "### Training Model"
      ]
    },
    {
      "cell_type": "code",
      "metadata": {
        "id": "YiQl6yfDRABw",
        "colab_type": "code",
        "colab": {}
      },
      "source": [
        "from keras.models import Sequential\n",
        "from keras.layers import Dense\n",
        "import numpy\n",
        "\n",
        "# create model\n",
        "singleLayer = Sequential()\n",
        "singleLayer.add(Dense(1, input_dim=8, activation='linear'))\n",
        "singleLayer.add(Dense(1, activation='sigmoid'))\n",
        "\n",
        "# Compile model\n",
        "singleLayer.compile(loss='binary_crossentropy', optimizer='adam', metrics=['accuracy'])\n",
        "\n",
        "# Fit the model\n",
        "singleLayer.fit(X_train, y_train, epochs=150)\n",
        "\n",
        "# evaluate the model\n",
        "scores = singleLayer.evaluate(X_test, y_test)\n",
        "print(\"\\n%s: %.2f%%\" % (singleLayer.metrics_names[1], scores[1]*100))\n"
      ],
      "execution_count": 0,
      "outputs": []
    },
    {
      "cell_type": "code",
      "metadata": {
        "id": "VZ2fyBJ20Hoh",
        "colab_type": "code",
        "colab": {}
      },
      "source": [
        "# Print model summary\n",
        "singleLayer.summary()"
      ],
      "execution_count": 0,
      "outputs": []
    },
    {
      "cell_type": "markdown",
      "metadata": {
        "id": "7Lsu-fKc9lmx",
        "colab_type": "text"
      },
      "source": [
        "### Plotting Neural Network"
      ]
    },
    {
      "cell_type": "code",
      "metadata": {
        "id": "7_h3AD56UHh4",
        "colab_type": "code",
        "colab": {}
      },
      "source": [
        "from ann_visualizer.visualize import ann_viz;\n",
        "\n",
        "ann_viz(singleLayer, title=\"Simple Feedforward Network\",filename=\"singleLayer.gv\")"
      ],
      "execution_count": 0,
      "outputs": []
    },
    {
      "cell_type": "markdown",
      "metadata": {
        "id": "R-0h0QUY976Y",
        "colab_type": "text"
      },
      "source": [
        "###Printing the Weights and Bias"
      ]
    },
    {
      "cell_type": "code",
      "metadata": {
        "id": "YBr_CYGOD7eb",
        "colab_type": "code",
        "colab": {}
      },
      "source": [
        "singleLayer.layers"
      ],
      "execution_count": 0,
      "outputs": []
    },
    {
      "cell_type": "code",
      "metadata": {
        "id": "S6J7xv2izT03",
        "colab_type": "code",
        "colab": {}
      },
      "source": [
        "# Layer 1\n",
        "print(\"Weights =\", singleLayer.layers[0].get_weights()[0])\n",
        "print(\"Biases =\", singleLayer.layers[0].get_weights()[1])"
      ],
      "execution_count": 0,
      "outputs": []
    },
    {
      "cell_type": "code",
      "metadata": {
        "id": "8-H8fhTdEG_c",
        "colab_type": "code",
        "colab": {}
      },
      "source": [
        "# Layer 2\n",
        "print(\"Weights =\", singleLayer.layers[1].get_weights()[0])\n",
        "print(\"Biases =\", singleLayer.layers[1].get_weights()[1])"
      ],
      "execution_count": 0,
      "outputs": []
    },
    {
      "cell_type": "markdown",
      "metadata": {
        "id": "LexD5KS0-EVf",
        "colab_type": "text"
      },
      "source": [
        "### Generating predictions on test set"
      ]
    },
    {
      "cell_type": "code",
      "metadata": {
        "id": "NDWdDVA2l-3I",
        "colab_type": "code",
        "colab": {}
      },
      "source": [
        "test_pred1 = singleLayer.predict(X_test)"
      ],
      "execution_count": 0,
      "outputs": []
    },
    {
      "cell_type": "code",
      "metadata": {
        "id": "pVYBi7YquFHu",
        "colab_type": "code",
        "colab": {}
      },
      "source": [
        "y_final1 = (test_pred1 > 0.40).astype(int).reshape(X_test.shape[0])"
      ],
      "execution_count": 0,
      "outputs": []
    },
    {
      "cell_type": "code",
      "metadata": {
        "id": "0aQGJQNr3nH3",
        "colab_type": "code",
        "colab": {}
      },
      "source": [
        "test_acc1 = (y_final1 == y_test).sum()/y_test.shape[0] * 100\n",
        "\n",
        "print(\"Accuracy on test set is: %\"+str(test_acc1))"
      ],
      "execution_count": 0,
      "outputs": []
    },
    {
      "cell_type": "code",
      "metadata": {
        "id": "Q8_De3x-tgdX",
        "colab_type": "code",
        "colab": {}
      },
      "source": [
        "X_test.loc[6]"
      ],
      "execution_count": 0,
      "outputs": []
    },
    {
      "cell_type": "code",
      "metadata": {
        "id": "9M5u3APHrdnR",
        "colab_type": "code",
        "colab": {}
      },
      "source": [
        "a =pd.DataFrame([[0.176471, 0.219355, 0.409836, 0.271739, 0.104019, 0.261759, 0.072588, 0.083333]])\n",
        "print(singleLayer.predict(a))\n",
        "# Threshold = 0.40\n",
        "print((singleLayer.predict(a) > 0.40).astype(int))"
      ],
      "execution_count": 0,
      "outputs": []
    },
    {
      "cell_type": "code",
      "metadata": {
        "id": "sbdVoj8RreKk",
        "colab_type": "code",
        "colab": {}
      },
      "source": [
        "y_test.loc[6]"
      ],
      "execution_count": 0,
      "outputs": []
    },
    {
      "cell_type": "code",
      "metadata": {
        "id": "-aSfTDnkryW8",
        "colab_type": "code",
        "colab": {}
      },
      "source": [
        "b = pd.DataFrame([[0.352941, 0.967742, 0.639344, 0.240798, 0.182474, 0.108384, 0.0217768, 0.633333]])\n",
        "print(singleLayer.predict(b))\n",
        "# Threshold = 0.40\n",
        "print((singleLayer.predict(b) > 0.40).astype(int))"
      ],
      "execution_count": 0,
      "outputs": []
    },
    {
      "cell_type": "code",
      "metadata": {
        "id": "ELKR8T6Ary0j",
        "colab_type": "code",
        "colab": {}
      },
      "source": [
        "y_test.loc[319]"
      ],
      "execution_count": 0,
      "outputs": []
    },
    {
      "cell_type": "markdown",
      "metadata": {
        "id": "QdhRCs_H-LFr",
        "colab_type": "text"
      },
      "source": [
        "### Confusion matrix"
      ]
    },
    {
      "cell_type": "code",
      "metadata": {
        "id": "2nRkD8m0KNZ8",
        "colab_type": "code",
        "colab": {}
      },
      "source": [
        "def confusionMatrix(y_test, y_pred):\n",
        "  from sklearn.metrics import confusion_matrix\n",
        "\n",
        "  # compute the confusion matrix\n",
        "  confusion_mtx = confusion_matrix(y_test, y_pred) \n",
        "\n",
        "  cm = pd.DataFrame(confusion_mtx)\n",
        "  TP = cm.iloc[1,1] # True Positive \n",
        "  TN = cm.iloc[0,0] # True Negative \n",
        "  FP = cm.iloc[0,1] # False Positive\n",
        "  FN = cm.iloc[1,0] # False Negative\n",
        "\n",
        "  print('Sensitivity: ', (TP/(FN+TP))*100)\n",
        "  print('Specificity: ', (TN/(FP+TN))*100)\n",
        "\n",
        "  # plot the confusion matrix\n",
        "  f,ax = plt.subplots(figsize=(6, 4))\n",
        "  sns.heatmap(confusion_mtx, annot=True, linewidths=0.01,cmap=\"Greens\",linecolor=\"gray\", fmt= '.1f',ax=ax)\n",
        "  plt.xlabel(\"Predicted Label\")\n",
        "  plt.ylabel(\"True Label\")\n",
        "  plt.title(\"Confusion Matrix- Single Layer \")\n",
        "  plt.show()"
      ],
      "execution_count": 0,
      "outputs": []
    },
    {
      "cell_type": "code",
      "metadata": {
        "id": "jxCJfumhKWX4",
        "colab_type": "code",
        "colab": {}
      },
      "source": [
        "confusionMatrix(y_test, y_final1)"
      ],
      "execution_count": 0,
      "outputs": []
    },
    {
      "cell_type": "markdown",
      "metadata": {
        "id": "NyR8_sZuIzz6",
        "colab_type": "text"
      },
      "source": [
        "### ROC Curve"
      ]
    },
    {
      "cell_type": "code",
      "metadata": {
        "id": "yF-0JTl0I2SJ",
        "colab_type": "code",
        "colab": {}
      },
      "source": [
        "def getROCMetrics(y_test, y_pred, text):\n",
        "  fpr, tpr, thresholds = roc_curve(y_test,y_pred)\n",
        "\n",
        "  #ROC Curve\n",
        "  fig,ax1 = plt.subplots(figsize=(9,6))\n",
        "  ax1.plot(fpr, tpr,color='orange')\n",
        "  ax1.legend(['ROC Curve'],loc=1)\n",
        "  ax1.set_xlim([-0.005, 1.0])\n",
        "  ax1.set_ylim([0,1])\n",
        "  ax1.set_ylabel('True Positive Rate (Sensitivity)')\n",
        "  ax1.set_xlabel('False Positive Rate \\n(1 - Specificity)\\n FP / (TN + FP)')\n",
        "  ax1.set_title(text)\n",
        "  \n",
        "  plt.show()\n",
        "  \n",
        "  rf_auc = roc_auc_score(y_test,y_pred)\n",
        "  print('AUC Score:', rf_auc*100)\n",
        "  return rf_auc*100"
      ],
      "execution_count": 0,
      "outputs": []
    },
    {
      "cell_type": "code",
      "metadata": {
        "id": "zZalsU3yKvr5",
        "colab_type": "code",
        "colab": {}
      },
      "source": [
        "getROCMetrics(y_test, y_final1, 'ROC Curve for Single Layer Perceptron\\n')"
      ],
      "execution_count": 0,
      "outputs": []
    },
    {
      "cell_type": "markdown",
      "metadata": {
        "id": "9ZmhHzcjUH-O",
        "colab_type": "text"
      },
      "source": [
        "## Multi Layer"
      ]
    },
    {
      "cell_type": "markdown",
      "metadata": {
        "id": "UkkQYPwYB664",
        "colab_type": "text"
      },
      "source": [
        "### Training Model"
      ]
    },
    {
      "cell_type": "code",
      "metadata": {
        "id": "wvY7sba7Mrpc",
        "colab_type": "code",
        "outputId": "d0976ea1-aeb8-4018-9964-4b8e97884cd6",
        "colab": {
          "base_uri": "https://localhost:8080/",
          "height": 1000
        }
      },
      "source": [
        "from keras.models import Sequential\n",
        "from keras.layers import Dense\n",
        "import numpy\n",
        "from keras import optimizers\n",
        "\n",
        "# create model\n",
        "multiLayer = Sequential()\n",
        "multiLayer.add(Dense(5, input_dim=8, activation='linear'))\n",
        "multiLayer.add(Dense(5, activation='linear'))\n",
        "multiLayer.add(Dense(1, activation='sigmoid'))\n",
        "\n",
        "sgd = optimizers.SGD(lr=0.01)\n",
        "# Compile model\n",
        "multiLayer.compile(loss='binary_crossentropy', optimizer=sgd, metrics=['accuracy'])\n",
        "\n",
        "# Fit the model\n",
        "multiLayer.fit(X_train, y_train, epochs=100, batch_size=10)\n",
        "\n",
        "# evaluate the model\n",
        "scores = multiLayer.evaluate(X_test, y_test)\n",
        "print(\"\\n%s: %.2f%%\" % (multiLayer.metrics_names[1], scores[1]*100))"
      ],
      "execution_count": 0,
      "outputs": [
        {
          "output_type": "stream",
          "text": [
            "Epoch 1/100\n",
            "576/576 [==============================] - 1s 1ms/step - loss: 0.6972 - acc: 0.5295\n",
            "Epoch 2/100\n",
            "576/576 [==============================] - 0s 125us/step - loss: 0.6335 - acc: 0.6458\n",
            "Epoch 3/100\n",
            "576/576 [==============================] - 0s 118us/step - loss: 0.6215 - acc: 0.6563\n",
            "Epoch 4/100\n",
            "576/576 [==============================] - 0s 124us/step - loss: 0.6126 - acc: 0.6615\n",
            "Epoch 5/100\n",
            "576/576 [==============================] - 0s 119us/step - loss: 0.6041 - acc: 0.6701\n",
            "Epoch 6/100\n",
            "576/576 [==============================] - 0s 133us/step - loss: 0.5962 - acc: 0.6788\n",
            "Epoch 7/100\n",
            "576/576 [==============================] - 0s 129us/step - loss: 0.5876 - acc: 0.6806\n",
            "Epoch 8/100\n",
            "576/576 [==============================] - 0s 124us/step - loss: 0.5800 - acc: 0.6997\n",
            "Epoch 9/100\n",
            "576/576 [==============================] - 0s 132us/step - loss: 0.5720 - acc: 0.7101\n",
            "Epoch 10/100\n",
            "576/576 [==============================] - 0s 125us/step - loss: 0.5643 - acc: 0.7222\n",
            "Epoch 11/100\n",
            "576/576 [==============================] - 0s 144us/step - loss: 0.5557 - acc: 0.7309\n",
            "Epoch 12/100\n",
            "576/576 [==============================] - 0s 128us/step - loss: 0.5486 - acc: 0.7188\n",
            "Epoch 13/100\n",
            "576/576 [==============================] - 0s 143us/step - loss: 0.5402 - acc: 0.7361\n",
            "Epoch 14/100\n",
            "576/576 [==============================] - 0s 125us/step - loss: 0.5332 - acc: 0.7448\n",
            "Epoch 15/100\n",
            "576/576 [==============================] - 0s 133us/step - loss: 0.5262 - acc: 0.7569\n",
            "Epoch 16/100\n",
            "576/576 [==============================] - 0s 119us/step - loss: 0.5200 - acc: 0.7552\n",
            "Epoch 17/100\n",
            "576/576 [==============================] - 0s 130us/step - loss: 0.5139 - acc: 0.7622\n",
            "Epoch 18/100\n",
            "576/576 [==============================] - 0s 120us/step - loss: 0.5074 - acc: 0.7639\n",
            "Epoch 19/100\n",
            "576/576 [==============================] - 0s 124us/step - loss: 0.5015 - acc: 0.7500\n",
            "Epoch 20/100\n",
            "576/576 [==============================] - 0s 123us/step - loss: 0.4971 - acc: 0.7708\n",
            "Epoch 21/100\n",
            "576/576 [==============================] - 0s 128us/step - loss: 0.4921 - acc: 0.7569\n",
            "Epoch 22/100\n",
            "576/576 [==============================] - 0s 128us/step - loss: 0.4877 - acc: 0.7674\n",
            "Epoch 23/100\n",
            "576/576 [==============================] - 0s 123us/step - loss: 0.4847 - acc: 0.7587\n",
            "Epoch 24/100\n",
            "576/576 [==============================] - 0s 138us/step - loss: 0.4808 - acc: 0.7656\n",
            "Epoch 25/100\n",
            "576/576 [==============================] - 0s 139us/step - loss: 0.4767 - acc: 0.7674\n",
            "Epoch 26/100\n",
            "576/576 [==============================] - 0s 127us/step - loss: 0.4758 - acc: 0.7674\n",
            "Epoch 27/100\n",
            "576/576 [==============================] - 0s 135us/step - loss: 0.4727 - acc: 0.7622\n",
            "Epoch 28/100\n",
            "576/576 [==============================] - 0s 134us/step - loss: 0.4695 - acc: 0.7656\n",
            "Epoch 29/100\n",
            "576/576 [==============================] - 0s 134us/step - loss: 0.4693 - acc: 0.7760\n",
            "Epoch 30/100\n",
            "576/576 [==============================] - 0s 140us/step - loss: 0.4678 - acc: 0.7743\n",
            "Epoch 31/100\n",
            "576/576 [==============================] - 0s 147us/step - loss: 0.4659 - acc: 0.7778\n",
            "Epoch 32/100\n",
            "576/576 [==============================] - 0s 134us/step - loss: 0.4641 - acc: 0.7708\n",
            "Epoch 33/100\n",
            "576/576 [==============================] - 0s 129us/step - loss: 0.4640 - acc: 0.7760\n",
            "Epoch 34/100\n",
            "576/576 [==============================] - 0s 128us/step - loss: 0.4622 - acc: 0.7743\n",
            "Epoch 35/100\n",
            "576/576 [==============================] - 0s 128us/step - loss: 0.4627 - acc: 0.7760\n",
            "Epoch 36/100\n",
            "576/576 [==============================] - 0s 160us/step - loss: 0.4614 - acc: 0.7778\n",
            "Epoch 37/100\n",
            "576/576 [==============================] - 0s 138us/step - loss: 0.4612 - acc: 0.7778\n",
            "Epoch 38/100\n",
            "576/576 [==============================] - 0s 139us/step - loss: 0.4608 - acc: 0.7847\n",
            "Epoch 39/100\n",
            "576/576 [==============================] - 0s 129us/step - loss: 0.4588 - acc: 0.7760\n",
            "Epoch 40/100\n",
            "576/576 [==============================] - 0s 130us/step - loss: 0.4595 - acc: 0.7743\n",
            "Epoch 41/100\n",
            "576/576 [==============================] - 0s 130us/step - loss: 0.4595 - acc: 0.7760\n",
            "Epoch 42/100\n",
            "576/576 [==============================] - 0s 135us/step - loss: 0.4600 - acc: 0.7656\n",
            "Epoch 43/100\n",
            "576/576 [==============================] - 0s 132us/step - loss: 0.4589 - acc: 0.7847\n",
            "Epoch 44/100\n",
            "576/576 [==============================] - 0s 126us/step - loss: 0.4585 - acc: 0.7760\n",
            "Epoch 45/100\n",
            "576/576 [==============================] - 0s 120us/step - loss: 0.4577 - acc: 0.7795\n",
            "Epoch 46/100\n",
            "576/576 [==============================] - 0s 160us/step - loss: 0.4574 - acc: 0.7778\n",
            "Epoch 47/100\n",
            "576/576 [==============================] - 0s 131us/step - loss: 0.4566 - acc: 0.7760\n",
            "Epoch 48/100\n",
            "576/576 [==============================] - 0s 131us/step - loss: 0.4579 - acc: 0.7743\n",
            "Epoch 49/100\n",
            "576/576 [==============================] - 0s 133us/step - loss: 0.4580 - acc: 0.7708\n",
            "Epoch 50/100\n",
            "576/576 [==============================] - 0s 119us/step - loss: 0.4574 - acc: 0.7795\n",
            "Epoch 51/100\n",
            "576/576 [==============================] - 0s 143us/step - loss: 0.4570 - acc: 0.7760\n",
            "Epoch 52/100\n",
            "576/576 [==============================] - 0s 121us/step - loss: 0.4572 - acc: 0.7760\n",
            "Epoch 53/100\n",
            "576/576 [==============================] - 0s 124us/step - loss: 0.4571 - acc: 0.7726\n",
            "Epoch 54/100\n",
            "576/576 [==============================] - 0s 125us/step - loss: 0.4558 - acc: 0.7812\n",
            "Epoch 55/100\n",
            "576/576 [==============================] - 0s 161us/step - loss: 0.4573 - acc: 0.7726\n",
            "Epoch 56/100\n",
            "576/576 [==============================] - 0s 130us/step - loss: 0.4567 - acc: 0.7778\n",
            "Epoch 57/100\n",
            "576/576 [==============================] - 0s 126us/step - loss: 0.4573 - acc: 0.7847\n",
            "Epoch 58/100\n",
            "576/576 [==============================] - 0s 133us/step - loss: 0.4560 - acc: 0.7882\n",
            "Epoch 59/100\n",
            "576/576 [==============================] - 0s 121us/step - loss: 0.4563 - acc: 0.7812\n",
            "Epoch 60/100\n",
            "576/576 [==============================] - 0s 137us/step - loss: 0.4554 - acc: 0.7726\n",
            "Epoch 61/100\n",
            "576/576 [==============================] - 0s 123us/step - loss: 0.4565 - acc: 0.7847\n",
            "Epoch 62/100\n",
            "576/576 [==============================] - 0s 151us/step - loss: 0.4552 - acc: 0.7674\n",
            "Epoch 63/100\n",
            "576/576 [==============================] - 0s 128us/step - loss: 0.4535 - acc: 0.7812\n",
            "Epoch 64/100\n",
            "576/576 [==============================] - 0s 125us/step - loss: 0.4564 - acc: 0.7743\n",
            "Epoch 65/100\n",
            "576/576 [==============================] - 0s 135us/step - loss: 0.4560 - acc: 0.7795\n",
            "Epoch 66/100\n",
            "576/576 [==============================] - 0s 135us/step - loss: 0.4553 - acc: 0.7743\n",
            "Epoch 67/100\n",
            "576/576 [==============================] - 0s 120us/step - loss: 0.4559 - acc: 0.7760\n",
            "Epoch 68/100\n",
            "576/576 [==============================] - 0s 127us/step - loss: 0.4556 - acc: 0.7830\n",
            "Epoch 69/100\n",
            "576/576 [==============================] - 0s 128us/step - loss: 0.4561 - acc: 0.7726\n",
            "Epoch 70/100\n",
            "576/576 [==============================] - 0s 138us/step - loss: 0.4563 - acc: 0.7830\n",
            "Epoch 71/100\n",
            "576/576 [==============================] - 0s 145us/step - loss: 0.4549 - acc: 0.7795\n",
            "Epoch 72/100\n",
            "576/576 [==============================] - 0s 145us/step - loss: 0.4558 - acc: 0.7760\n",
            "Epoch 73/100\n",
            "576/576 [==============================] - 0s 137us/step - loss: 0.4555 - acc: 0.7795\n",
            "Epoch 74/100\n",
            "576/576 [==============================] - 0s 130us/step - loss: 0.4553 - acc: 0.7812\n",
            "Epoch 75/100\n",
            "576/576 [==============================] - 0s 141us/step - loss: 0.4545 - acc: 0.7795\n",
            "Epoch 76/100\n",
            "576/576 [==============================] - 0s 131us/step - loss: 0.4543 - acc: 0.7743\n",
            "Epoch 77/100\n",
            "576/576 [==============================] - 0s 145us/step - loss: 0.4554 - acc: 0.7865\n",
            "Epoch 78/100\n",
            "576/576 [==============================] - 0s 152us/step - loss: 0.4553 - acc: 0.7795\n",
            "Epoch 79/100\n",
            "576/576 [==============================] - 0s 125us/step - loss: 0.4534 - acc: 0.7847\n",
            "Epoch 80/100\n",
            "576/576 [==============================] - 0s 129us/step - loss: 0.4544 - acc: 0.7778\n",
            "Epoch 81/100\n",
            "576/576 [==============================] - 0s 128us/step - loss: 0.4555 - acc: 0.7812\n",
            "Epoch 82/100\n",
            "576/576 [==============================] - 0s 127us/step - loss: 0.4537 - acc: 0.7830\n",
            "Epoch 83/100\n",
            "576/576 [==============================] - 0s 134us/step - loss: 0.4562 - acc: 0.7743\n",
            "Epoch 84/100\n",
            "576/576 [==============================] - 0s 131us/step - loss: 0.4537 - acc: 0.7795\n",
            "Epoch 85/100\n",
            "576/576 [==============================] - 0s 124us/step - loss: 0.4546 - acc: 0.7674\n",
            "Epoch 86/100\n",
            "576/576 [==============================] - 0s 124us/step - loss: 0.4537 - acc: 0.7760\n",
            "Epoch 87/100\n",
            "576/576 [==============================] - 0s 126us/step - loss: 0.4528 - acc: 0.7691\n",
            "Epoch 88/100\n",
            "576/576 [==============================] - 0s 134us/step - loss: 0.4546 - acc: 0.7708\n",
            "Epoch 89/100\n",
            "576/576 [==============================] - 0s 123us/step - loss: 0.4543 - acc: 0.7830\n",
            "Epoch 90/100\n",
            "576/576 [==============================] - 0s 116us/step - loss: 0.4546 - acc: 0.7743\n",
            "Epoch 91/100\n",
            "576/576 [==============================] - 0s 131us/step - loss: 0.4544 - acc: 0.7847\n",
            "Epoch 92/100\n",
            "576/576 [==============================] - 0s 127us/step - loss: 0.4554 - acc: 0.7743\n",
            "Epoch 93/100\n",
            "576/576 [==============================] - 0s 121us/step - loss: 0.4537 - acc: 0.7778\n",
            "Epoch 94/100\n",
            "576/576 [==============================] - 0s 115us/step - loss: 0.4533 - acc: 0.7917\n",
            "Epoch 95/100\n",
            "576/576 [==============================] - 0s 127us/step - loss: 0.4548 - acc: 0.7743\n",
            "Epoch 96/100\n",
            "576/576 [==============================] - 0s 118us/step - loss: 0.4554 - acc: 0.7760\n",
            "Epoch 97/100\n",
            "576/576 [==============================] - 0s 117us/step - loss: 0.4550 - acc: 0.7865\n",
            "Epoch 98/100\n",
            "576/576 [==============================] - 0s 121us/step - loss: 0.4537 - acc: 0.7760\n",
            "Epoch 99/100\n",
            "576/576 [==============================] - 0s 125us/step - loss: 0.4549 - acc: 0.7812\n",
            "Epoch 100/100\n",
            "576/576 [==============================] - 0s 124us/step - loss: 0.4549 - acc: 0.7830\n",
            "192/192 [==============================] - 0s 1ms/step\n",
            "\n",
            "acc: 72.40%\n"
          ],
          "name": "stdout"
        }
      ]
    },
    {
      "cell_type": "code",
      "metadata": {
        "id": "2aIGhwr2C_oQ",
        "colab_type": "code",
        "colab": {}
      },
      "source": [
        "# Print model summary\n",
        "multiLayer.summary()"
      ],
      "execution_count": 0,
      "outputs": []
    },
    {
      "cell_type": "markdown",
      "metadata": {
        "id": "yfTrGwjKCUCB",
        "colab_type": "text"
      },
      "source": [
        "### Plotting Neural Network"
      ]
    },
    {
      "cell_type": "code",
      "metadata": {
        "id": "x6kMQ8dONMDk",
        "colab_type": "code",
        "colab": {}
      },
      "source": [
        "from ann_visualizer.visualize import ann_viz;\n",
        "\n",
        "ann_viz(multiLayer, title=\"Multi Layer Feedforward Network\",filename=\"multiLayer.gv\")"
      ],
      "execution_count": 0,
      "outputs": []
    },
    {
      "cell_type": "markdown",
      "metadata": {
        "id": "wNJVuCa3DLCH",
        "colab_type": "text"
      },
      "source": [
        "### Printing the Weights and Bias"
      ]
    },
    {
      "cell_type": "code",
      "metadata": {
        "id": "SW2l9ny4DODk",
        "colab_type": "code",
        "colab": {}
      },
      "source": [
        "# Layer 1\n",
        "print(\"Weights =\", multiLayer.layers[0].get_weights()[0])\n",
        "print(\"Biases =\", multiLayer.layers[0].get_weights()[1])"
      ],
      "execution_count": 0,
      "outputs": []
    },
    {
      "cell_type": "code",
      "metadata": {
        "id": "hvoLEuw0DhjD",
        "colab_type": "code",
        "colab": {}
      },
      "source": [
        "# Layer 2\n",
        "print(\"Weights =\", multiLayer.layers[1].get_weights()[0])\n",
        "print(\"Biases =\", multiLayer.layers[1].get_weights()[1])"
      ],
      "execution_count": 0,
      "outputs": []
    },
    {
      "cell_type": "code",
      "metadata": {
        "id": "HKMQhRf0DuMv",
        "colab_type": "code",
        "colab": {}
      },
      "source": [
        "# Layer 3\n",
        "print(\"Weights =\", multiLayer.layers[2].get_weights()[0])\n",
        "print(\"Biases =\", multiLayer.layers[2].get_weights()[1])"
      ],
      "execution_count": 0,
      "outputs": []
    },
    {
      "cell_type": "markdown",
      "metadata": {
        "id": "tk1ER0ftESMa",
        "colab_type": "text"
      },
      "source": [
        "### Generating Predictions on Test Set"
      ]
    },
    {
      "cell_type": "code",
      "metadata": {
        "id": "euxH0qU5Eo5D",
        "colab_type": "code",
        "colab": {}
      },
      "source": [
        "test_pred2 = multiLayer.predict(X_test)"
      ],
      "execution_count": 0,
      "outputs": []
    },
    {
      "cell_type": "code",
      "metadata": {
        "id": "uZBS877RFIfI",
        "colab_type": "code",
        "outputId": "782292bd-5838-4b3c-c7f7-ae3edd3571e2",
        "colab": {
          "base_uri": "https://localhost:8080/",
          "height": 1000
        }
      },
      "source": [
        "test_pred2"
      ],
      "execution_count": 0,
      "outputs": [
        {
          "output_type": "execute_result",
          "data": {
            "text/plain": [
              "array([[0.2805125 ],\n",
              "       [0.16384485],\n",
              "       [0.10429913],\n",
              "       [0.13395095],\n",
              "       [0.45831668],\n",
              "       [0.44795537],\n",
              "       [0.01159701],\n",
              "       [0.34168035],\n",
              "       [0.56616104],\n",
              "       [0.7607186 ],\n",
              "       [0.21903324],\n",
              "       [0.8948109 ],\n",
              "       [0.4469864 ],\n",
              "       [0.21828708],\n",
              "       [0.05652276],\n",
              "       [0.3844519 ],\n",
              "       [0.10655487],\n",
              "       [0.06277791],\n",
              "       [0.7253818 ],\n",
              "       [0.5579824 ],\n",
              "       [0.1840814 ],\n",
              "       [0.06495771],\n",
              "       [0.5292131 ],\n",
              "       [0.08308035],\n",
              "       [0.5455958 ],\n",
              "       [0.88481164],\n",
              "       [0.10336563],\n",
              "       [0.02364081],\n",
              "       [0.25562543],\n",
              "       [0.08605444],\n",
              "       [0.92171633],\n",
              "       [0.84761596],\n",
              "       [0.8518127 ],\n",
              "       [0.6303443 ],\n",
              "       [0.5301551 ],\n",
              "       [0.7078635 ],\n",
              "       [0.979182  ],\n",
              "       [0.18072522],\n",
              "       [0.43270156],\n",
              "       [0.47630563],\n",
              "       [0.05356637],\n",
              "       [0.5345775 ],\n",
              "       [0.4830611 ],\n",
              "       [0.28870702],\n",
              "       [0.02522671],\n",
              "       [0.5752129 ],\n",
              "       [0.6289586 ],\n",
              "       [0.18041271],\n",
              "       [0.29869306],\n",
              "       [0.96153235],\n",
              "       [0.03783557],\n",
              "       [0.67997533],\n",
              "       [0.871065  ],\n",
              "       [0.22709727],\n",
              "       [0.1104925 ],\n",
              "       [0.03233045],\n",
              "       [0.7701628 ],\n",
              "       [0.04631013],\n",
              "       [0.37024757],\n",
              "       [0.7639818 ],\n",
              "       [0.7159107 ],\n",
              "       [0.29777104],\n",
              "       [0.2197853 ],\n",
              "       [0.18219003],\n",
              "       [0.07183921],\n",
              "       [0.63530445],\n",
              "       [0.03557983],\n",
              "       [0.71664584],\n",
              "       [0.03117901],\n",
              "       [0.8758931 ],\n",
              "       [0.7710351 ],\n",
              "       [0.04850209],\n",
              "       [0.15279767],\n",
              "       [0.09129947],\n",
              "       [0.08177695],\n",
              "       [0.45124385],\n",
              "       [0.13285789],\n",
              "       [0.11546659],\n",
              "       [0.14350858],\n",
              "       [0.21379653],\n",
              "       [0.65257466],\n",
              "       [0.13064787],\n",
              "       [0.04533061],\n",
              "       [0.42974365],\n",
              "       [0.21338302],\n",
              "       [0.8664529 ],\n",
              "       [0.8980702 ],\n",
              "       [0.3074838 ],\n",
              "       [0.09860682],\n",
              "       [0.06428245],\n",
              "       [0.05392304],\n",
              "       [0.2011101 ],\n",
              "       [0.03405565],\n",
              "       [0.29253328],\n",
              "       [0.51995623],\n",
              "       [0.61616045],\n",
              "       [0.32313117],\n",
              "       [0.09775838],\n",
              "       [0.74634105],\n",
              "       [0.06084996],\n",
              "       [0.7432667 ],\n",
              "       [0.04740062],\n",
              "       [0.7458831 ],\n",
              "       [0.5629327 ],\n",
              "       [0.6172697 ],\n",
              "       [0.24820712],\n",
              "       [0.26812172],\n",
              "       [0.7750306 ],\n",
              "       [0.08818573],\n",
              "       [0.42490637],\n",
              "       [0.0724245 ],\n",
              "       [0.34411046],\n",
              "       [0.15430993],\n",
              "       [0.82402265],\n",
              "       [0.17955193],\n",
              "       [0.28848398],\n",
              "       [0.75304997],\n",
              "       [0.18933174],\n",
              "       [0.05114463],\n",
              "       [0.32300115],\n",
              "       [0.05296636],\n",
              "       [0.27672428],\n",
              "       [0.22067913],\n",
              "       [0.04875582],\n",
              "       [0.2709654 ],\n",
              "       [0.46542978],\n",
              "       [0.28185987],\n",
              "       [0.8590611 ],\n",
              "       [0.90970016],\n",
              "       [0.72414625],\n",
              "       [0.7094727 ],\n",
              "       [0.88981456],\n",
              "       [0.0699324 ],\n",
              "       [0.45855957],\n",
              "       [0.8643906 ],\n",
              "       [0.10007322],\n",
              "       [0.14940768],\n",
              "       [0.85676265],\n",
              "       [0.795799  ],\n",
              "       [0.00859118],\n",
              "       [0.07457376],\n",
              "       [0.03428873],\n",
              "       [0.20227203],\n",
              "       [0.5580746 ],\n",
              "       [0.10266119],\n",
              "       [0.22139087],\n",
              "       [0.08468387],\n",
              "       [0.01346734],\n",
              "       [0.3888921 ],\n",
              "       [0.75487673],\n",
              "       [0.0778735 ],\n",
              "       [0.4112773 ],\n",
              "       [0.34612274],\n",
              "       [0.15780324],\n",
              "       [0.0508486 ],\n",
              "       [0.35046613],\n",
              "       [0.28358537],\n",
              "       [0.63272655],\n",
              "       [0.80170155],\n",
              "       [0.12061444],\n",
              "       [0.2903508 ],\n",
              "       [0.6650456 ],\n",
              "       [0.2137098 ],\n",
              "       [0.01392537],\n",
              "       [0.11380658],\n",
              "       [0.8572094 ],\n",
              "       [0.0371317 ],\n",
              "       [0.29650202],\n",
              "       [0.7868758 ],\n",
              "       [0.4988585 ],\n",
              "       [0.61352307],\n",
              "       [0.13641816],\n",
              "       [0.30984303],\n",
              "       [0.7361546 ],\n",
              "       [0.7576867 ],\n",
              "       [0.06557712],\n",
              "       [0.27727675],\n",
              "       [0.25688455],\n",
              "       [0.1895327 ],\n",
              "       [0.26028812],\n",
              "       [0.51420563],\n",
              "       [0.6327282 ],\n",
              "       [0.337731  ],\n",
              "       [0.74994373],\n",
              "       [0.6255814 ],\n",
              "       [0.07424769],\n",
              "       [0.02948931],\n",
              "       [0.09870094],\n",
              "       [0.8483043 ],\n",
              "       [0.4298469 ],\n",
              "       [0.05959842],\n",
              "       [0.07406005]], dtype=float32)"
            ]
          },
          "metadata": {
            "tags": []
          },
          "execution_count": 106
        }
      ]
    },
    {
      "cell_type": "code",
      "metadata": {
        "id": "kH3lPA5HErkX",
        "colab_type": "code",
        "colab": {}
      },
      "source": [
        "y_final2 = (test_pred2 > 0.60).astype(int).reshape(X_test.shape[0])"
      ],
      "execution_count": 0,
      "outputs": []
    },
    {
      "cell_type": "code",
      "metadata": {
        "id": "4o6SI3c8FLot",
        "colab_type": "code",
        "outputId": "be41e1b2-dbaf-4225-8a4a-a95dc7793996",
        "colab": {
          "base_uri": "https://localhost:8080/",
          "height": 171
        }
      },
      "source": [
        "y_final2"
      ],
      "execution_count": 0,
      "outputs": [
        {
          "output_type": "execute_result",
          "data": {
            "text/plain": [
              "array([0, 0, 0, 0, 0, 0, 0, 0, 0, 1, 0, 1, 0, 0, 0, 0, 0, 0, 1, 0, 0, 0,\n",
              "       0, 0, 0, 1, 0, 0, 0, 0, 1, 1, 1, 1, 0, 1, 1, 0, 0, 0, 0, 0, 0, 0,\n",
              "       0, 0, 1, 0, 0, 1, 0, 1, 1, 0, 0, 0, 1, 0, 0, 1, 1, 0, 0, 0, 0, 1,\n",
              "       0, 1, 0, 1, 1, 0, 0, 0, 0, 0, 0, 0, 0, 0, 1, 0, 0, 0, 0, 1, 1, 0,\n",
              "       0, 0, 0, 0, 0, 0, 0, 1, 0, 0, 1, 0, 1, 0, 1, 0, 1, 0, 0, 1, 0, 0,\n",
              "       0, 0, 0, 1, 0, 0, 1, 0, 0, 0, 0, 0, 0, 0, 0, 0, 0, 1, 1, 1, 1, 1,\n",
              "       0, 0, 1, 0, 0, 1, 1, 0, 0, 0, 0, 0, 0, 0, 0, 0, 0, 1, 0, 0, 0, 0,\n",
              "       0, 0, 0, 1, 1, 0, 0, 1, 0, 0, 0, 1, 0, 0, 1, 0, 1, 0, 0, 1, 1, 0,\n",
              "       0, 0, 0, 0, 0, 1, 0, 1, 1, 0, 0, 0, 1, 0, 0, 0])"
            ]
          },
          "metadata": {
            "tags": []
          },
          "execution_count": 108
        }
      ]
    },
    {
      "cell_type": "code",
      "metadata": {
        "id": "2vxbmYQ9ERJ7",
        "colab_type": "code",
        "outputId": "e0de80f5-0911-4151-abdd-2045e1b1cc00",
        "colab": {
          "base_uri": "https://localhost:8080/",
          "height": 34
        }
      },
      "source": [
        "test_acc2 = (y_final2 == y_test).sum()/y_test.shape[0] * 100\n",
        "\n",
        "print(\"Accuracy on test set is: %\"+str(test_acc2))"
      ],
      "execution_count": 0,
      "outputs": [
        {
          "output_type": "stream",
          "text": [
            "Accuracy on test set is: %76.04166666666666\n"
          ],
          "name": "stdout"
        }
      ]
    },
    {
      "cell_type": "code",
      "metadata": {
        "id": "9gGlpddSrgeE",
        "colab_type": "code",
        "outputId": "cbaeddac-a9e2-42b7-e765-ae944b9900a6",
        "colab": {
          "base_uri": "https://localhost:8080/",
          "height": 51
        }
      },
      "source": [
        "a =pd.DataFrame([[0.176471, 0.219355, 0.409836, 0.271739, 0.104019, 0.261759, 0.072588, 0.083333]])\n",
        "print(multiLayer.predict(a))\n",
        "# Threshold = 0.6\n",
        "print((multiLayer.predict(a) > 0.6).astype(int))"
      ],
      "execution_count": 0,
      "outputs": [
        {
          "output_type": "stream",
          "text": [
            "[[0.1940743]]\n",
            "[[0]]\n"
          ],
          "name": "stdout"
        }
      ]
    },
    {
      "cell_type": "code",
      "metadata": {
        "id": "3WzRNrJcrmBc",
        "colab_type": "code",
        "colab": {}
      },
      "source": [
        "y_test.loc[6]"
      ],
      "execution_count": 0,
      "outputs": []
    },
    {
      "cell_type": "code",
      "metadata": {
        "id": "31xZGw4Urs8I",
        "colab_type": "code",
        "colab": {}
      },
      "source": [
        "b =pd.DataFrame([[0.352941, 0.967742, 0.639344, 0.240798, 0.182474, 0.108384, 0.0217768, 0.633333]])\n",
        "print(multiLayer.predict(b))\n",
        "# Threshold = 0.6\n",
        "print((multiLayer.predict(b) > 0.6).astype(int))"
      ],
      "execution_count": 0,
      "outputs": []
    },
    {
      "cell_type": "code",
      "metadata": {
        "id": "_QolauvcrtdG",
        "colab_type": "code",
        "colab": {}
      },
      "source": [
        "y_test.loc[319]"
      ],
      "execution_count": 0,
      "outputs": []
    },
    {
      "cell_type": "markdown",
      "metadata": {
        "id": "csSmb1g9E9gt",
        "colab_type": "text"
      },
      "source": [
        "###Confusion Matrix"
      ]
    },
    {
      "cell_type": "code",
      "metadata": {
        "id": "g2Ns_Pf3E_jT",
        "colab_type": "code",
        "colab": {}
      },
      "source": [
        "confusionMatrix(y_test, y_final2)"
      ],
      "execution_count": 0,
      "outputs": []
    },
    {
      "cell_type": "markdown",
      "metadata": {
        "id": "-rYB3ok9MOSB",
        "colab_type": "text"
      },
      "source": [
        "### ROC Curve"
      ]
    },
    {
      "cell_type": "code",
      "metadata": {
        "id": "YiYCQK0DMQEq",
        "colab_type": "code",
        "colab": {}
      },
      "source": [
        "getROCMetrics(y_test, y_final2, 'ROC Curve for Multi Layer Perceptron\\n')"
      ],
      "execution_count": 0,
      "outputs": []
    },
    {
      "cell_type": "markdown",
      "metadata": {
        "id": "jmFtDgpOUClK",
        "colab_type": "text"
      },
      "source": [
        "#C) Model Comparison"
      ]
    },
    {
      "cell_type": "markdown",
      "metadata": {
        "id": "8YFPjq22UEt1",
        "colab_type": "text"
      },
      "source": [
        "## SVM"
      ]
    },
    {
      "cell_type": "code",
      "metadata": {
        "id": "9c1mjl6KUGWb",
        "colab_type": "code",
        "colab": {}
      },
      "source": [
        "from sklearn.svm import SVC\n",
        "svm = SVC(C=1.0, kernel='linear', degree=3, gamma='auto')\n",
        "svm.fit(X_train, y_train)"
      ],
      "execution_count": 0,
      "outputs": []
    },
    {
      "cell_type": "code",
      "metadata": {
        "id": "Y71nJsXOXLjb",
        "colab_type": "code",
        "colab": {}
      },
      "source": [
        "# predict the labels on validation dataset\n",
        "predictions_SVM = svm.predict(X_test)\n",
        "\n",
        "from sklearn.metrics import accuracy_score\n",
        "# Use accuracy_score function to get the accuracy\n",
        "print(\"SVM Accuracy Score -> \",accuracy_score(predictions_SVM, y_test)*100)"
      ],
      "execution_count": 0,
      "outputs": []
    },
    {
      "cell_type": "code",
      "metadata": {
        "id": "jPngFx11rvSX",
        "colab_type": "code",
        "colab": {}
      },
      "source": [
        "svm.support_vectors_)"
      ],
      "execution_count": 0,
      "outputs": []
    },
    {
      "cell_type": "code",
      "metadata": {
        "id": "GUngdHDNWb4C",
        "colab_type": "code",
        "colab": {}
      },
      "source": [
        "# Test 1\n",
        "X_test.loc[6]"
      ],
      "execution_count": 0,
      "outputs": []
    },
    {
      "cell_type": "code",
      "metadata": {
        "id": "jtjVnw_kUmYM",
        "colab_type": "code",
        "colab": {}
      },
      "source": [
        "print(svm.predict([[0.176471, 0.219355, 0.409836, 0.271739, 0.104019, 0.261759, 0.072588, 0.083333]]))"
      ],
      "execution_count": 0,
      "outputs": []
    },
    {
      "cell_type": "code",
      "metadata": {
        "id": "doTWEH8jWn4d",
        "colab_type": "code",
        "colab": {}
      },
      "source": [
        "y_test.loc[6]"
      ],
      "execution_count": 0,
      "outputs": []
    },
    {
      "cell_type": "code",
      "metadata": {
        "id": "fb6SwQZxZ0EX",
        "colab_type": "code",
        "colab": {}
      },
      "source": [
        "# Test 2\n",
        "X_test.loc[319]"
      ],
      "execution_count": 0,
      "outputs": []
    },
    {
      "cell_type": "code",
      "metadata": {
        "id": "JZELmvruZ3bk",
        "colab_type": "code",
        "colab": {}
      },
      "source": [
        "print(svm.predict([[0.352941, 0.967742, 0.639344, 0.240798, 0.182474, 0.108384, 0.0217768, 0.633333]]))"
      ],
      "execution_count": 0,
      "outputs": []
    },
    {
      "cell_type": "code",
      "metadata": {
        "id": "AyYQVfACZxCb",
        "colab_type": "code",
        "colab": {}
      },
      "source": [
        "y_test.loc[319]"
      ],
      "execution_count": 0,
      "outputs": []
    },
    {
      "cell_type": "markdown",
      "metadata": {
        "id": "oZzj23tzGN3T",
        "colab_type": "text"
      },
      "source": [
        "###Confusion Matrix"
      ]
    },
    {
      "cell_type": "code",
      "metadata": {
        "id": "q4saEDo-GRRt",
        "colab_type": "code",
        "colab": {}
      },
      "source": [
        "confusionMatrix(y_test, predictions_SVM)"
      ],
      "execution_count": 0,
      "outputs": []
    },
    {
      "cell_type": "markdown",
      "metadata": {
        "id": "ADVppoosN42M",
        "colab_type": "text"
      },
      "source": [
        "### ROC Curve"
      ]
    },
    {
      "cell_type": "code",
      "metadata": {
        "id": "0D4U5HAjGk2Z",
        "colab_type": "code",
        "colab": {}
      },
      "source": [
        "getROCMetrics(y_test, predictions_SVM,'ROC Curve for Support Vector Machine\\n')"
      ],
      "execution_count": 0,
      "outputs": []
    },
    {
      "cell_type": "markdown",
      "metadata": {
        "id": "w646T8MjHYY4",
        "colab_type": "text"
      },
      "source": [
        "### New Section"
      ]
    },
    {
      "cell_type": "code",
      "metadata": {
        "id": "Pch9cpGQZ7Yd",
        "colab_type": "code",
        "colab": {}
      },
      "source": [
        "from sklearn import metrics\n",
        "import numpy as np\n",
        "import matplotlib.pyplot as plt\n",
        "\n",
        "plt.figure(0).clf()\n",
        "\n",
        "pred = np.random.rand(1000)\n",
        "label = np.random.randint(2, size=1000)\n",
        "fpr, tpr, thresh = metrics.roc_curve(y_test, y_final2)\n",
        "auc = metrics.roc_auc_score(y_test, y_final2)*100\n",
        "plt.plot(fpr,tpr,label=\"Multi Layer, auc=\"+str(auc))\n",
        "\n",
        "pred = np.random.rand(1000)\n",
        "label = np.random.randint(2, size=1000)\n",
        "fpr, tpr, thresh = metrics.roc_curve(y_test, predictions_SVM)\n",
        "auc = metrics.roc_auc_score(y_test, predictions_SVM)*100\n",
        "plt.plot(fpr,tpr,label=\"SVM, auc=\"+str(auc))\n",
        "\n",
        "plt.legend(loc=0)"
      ],
      "execution_count": 0,
      "outputs": []
    },
    {
      "cell_type": "code",
      "metadata": {
        "id": "3o5EOqf3HrUV",
        "colab_type": "code",
        "colab": {}
      },
      "source": [
        ""
      ],
      "execution_count": 0,
      "outputs": []
    }
  ]
}